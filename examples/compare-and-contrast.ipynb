{
 "cells": [
  {
   "cell_type": "code",
   "execution_count": null,
   "id": "4f5ea0f0-4fbb-48da-8384-767bd643d2c9",
   "metadata": {},
   "outputs": [],
   "source": [
    "import numpy as np\n",
    "from tqdm.notebook import tqdm\n",
    "import matplotlib.pyplot as plt"
   ]
  },
  {
   "cell_type": "code",
   "execution_count": null,
   "id": "ec14feea-c973-49c6-8c39-bb291d913d8b",
   "metadata": {},
   "outputs": [],
   "source": [
    "import supervillain"
   ]
  },
  {
   "cell_type": "markdown",
   "id": "99493050-0d05-47c9-ab00-5cc825cfeb59",
   "metadata": {},
   "source": [
    "# Introduction"
   ]
  },
  {
   "cell_type": "markdown",
   "id": "122fb086-b92e-4cf6-8672-ec3539de5d4f",
   "metadata": {},
   "source": [
    "In this notebook we will run two short ensembles with different parameters for a relatively small lattice."
   ]
  },
  {
   "cell_type": "code",
   "execution_count": null,
   "id": "0e8d4ca3-ff18-4090-8558-360a368dad3d",
   "metadata": {},
   "outputs": [],
   "source": [
    "N = 5\n",
    "L = supervillain.lattice.Lattice2D(N)\n",
    "configurations = 1000"
   ]
  },
  {
   "cell_type": "markdown",
   "id": "332c069a-f38f-48e4-bae2-5a53d9391832",
   "metadata": {},
   "source": [
    "Including how to do i/o with hdf5"
   ]
  },
  {
   "cell_type": "code",
   "execution_count": null,
   "id": "c1187a18-9de7-421d-8c81-fc3000ac3dfd",
   "metadata": {},
   "outputs": [],
   "source": [
    "import h5py as h5\n",
    "storage = 'compare-and-contrast.h5'\n",
    "# We first remove the storage, so that the examples can run all the way through.\n",
    "with h5.File(storage, 'w') as f:\n",
    "    pass"
   ]
  },
  {
   "cell_type": "markdown",
   "id": "25d0a993-3357-4fcc-948e-0d12f93d293c",
   "metadata": {},
   "source": [
    "and how to do a simple bootstrap analysis."
   ]
  },
  {
   "cell_type": "code",
   "execution_count": null,
   "id": "4b735af6-4d29-4f36-9ead-71527f5df2fe",
   "metadata": {},
   "outputs": [],
   "source": [
    "bootstrap_resampling = 100"
   ]
  },
  {
   "cell_type": "markdown",
   "id": "bdd3dcde-52d6-465a-a04d-53908805cfaa",
   "metadata": {},
   "source": [
    "The purpose is to show a relatively complete analysis for both the Villain and Worldline formulations.\n",
    "\n",
    "To check that the two formulations agree, you can run them with the same parameters using `examples/action-comparison.py`.\n",
    "\n",
    "Instead, here we run with two different parameters, the Villain formulation in the small-κ regime and the Worldline formulation in the large-κ regime.  It is in these regimes where each formulation does well."
   ]
  },
  {
   "cell_type": "markdown",
   "id": "2b7137cc-760e-46dc-841d-cffe97dfd539",
   "metadata": {
    "jp-MarkdownHeadingCollapsed": true,
    "tags": []
   },
   "source": [
    "# Understanding Results"
   ]
  },
  {
   "cell_type": "markdown",
   "id": "b7f39b6e-cb14-4643-a0f4-cc11aff8bdc8",
   "metadata": {},
   "source": [
    "We might like to look at Monte Carlo histories to see that our observables are fluctuating well."
   ]
  },
  {
   "cell_type": "code",
   "execution_count": null,
   "id": "8a2e1635-d09b-4497-bf6c-b74919e7de79",
   "metadata": {},
   "outputs": [],
   "source": [
    "def plot_history(\n",
    "        axs, index, data,\n",
    "        label=None,\n",
    "        bins=31, density=True,\n",
    "        alpha=0.5, color=None\n",
    "        ):\n",
    "    r'''\n",
    "    axs is a numpy array of at least 2 matplotlib axes.\n",
    "    In the first goes the Monte Carlo history; in the second goes the corresponding histogram.\n",
    "    '''\n",
    "    \n",
    "    axs[0].plot(index, data, color=color, alpha=alpha)\n",
    "    axs[1].hist(data, label=label,\n",
    "            orientation='horizontal',\n",
    "            bins=bins, density=density,\n",
    "            color=color, alpha=alpha,)\n",
    "    \n",
    "    \n",
    "def plot(ensemble, ax=None):\n",
    "    r'''\n",
    "    Takes an ensemble and an optional set of axes.\n",
    "    If the axes are not provided, creates a new figure for plotting Monte Carlo histories.\n",
    "    If the axes are provided, plots Monte Carlo histories on those axes.\n",
    "    '''\n",
    "    if ax is None:\n",
    "        _, ax = plt.subplots(2,2,\n",
    "            figsize=(10, 6),\n",
    "            gridspec_kw={'width_ratios': [4, 1], 'wspace': 0},\n",
    "            sharey='row',\n",
    "            squeeze=False\n",
    "        )\n",
    "\n",
    "    plot_history(ax[0], ensemble.index, ensemble.InternalEnergyDensity)\n",
    "    plot_history(ax[1], ensemble.index, ensemble.WindingSquared)\n",
    "\n",
    "    ax[0,0].set_ylabel('U / Λ')\n",
    "    ax[1,0].set_ylabel('w^2')\n",
    "    ax[-1,0].set_xlabel('Monte Carlo time')\n",
    "    \n",
    "    return ax"
   ]
  },
  {
   "cell_type": "markdown",
   "id": "0ef291c1-992e-41b3-bfc9-4a4083e80668",
   "metadata": {},
   "source": [
    "We can compute a quick-and-dirty naive error estimate from a Markov chain directly."
   ]
  },
  {
   "cell_type": "code",
   "execution_count": null,
   "id": "d9de878a-0218-4940-959a-f8b18b7bfe47",
   "metadata": {},
   "outputs": [],
   "source": [
    "def naive_estimate(observable):\n",
    "    # (mean, uncertainty)\n",
    "    return (np.mean(observable), np.std(observable) / np.sqrt(len(observable)))    "
   ]
  },
  {
   "cell_type": "markdown",
   "id": "7ac034ca-dbd2-4dda-8e27-8da17dc7405e",
   "metadata": {},
   "source": [
    "`supervilllain` provides infrastructure for bootstrap resampling.  To actually get central values and uncertainties we need to reduce by taking the mean and standard deviation of the resampled means."
   ]
  },
  {
   "cell_type": "code",
   "execution_count": null,
   "id": "d3e99717-c129-40e3-8385-e6799d6930aa",
   "metadata": {},
   "outputs": [],
   "source": [
    "def bootstrap_estimate(observable):\n",
    "    # (mean, uncertainty)\n",
    "    return (np.mean(observable), np.std(observable))\n",
    "\n",
    "def error_format(estimate):\n",
    "    mean = estimate[0]\n",
    "    err  = estimate[1]\n",
    "    return f'{mean:.3f} ± {err:.3f}'"
   ]
  },
  {
   "cell_type": "markdown",
   "id": "93582317-3f57-4af5-8f19-0458b94de722",
   "metadata": {},
   "source": [
    "We might also want to draw the uncertainties as error bands."
   ]
  },
  {
   "cell_type": "code",
   "execution_count": null,
   "id": "fe646a6b-c6f7-4060-8e6d-bc59ded59004",
   "metadata": {},
   "outputs": [],
   "source": [
    "def band(ax, estimate, color=None):\n",
    "    mean = estimate[0]\n",
    "    err  = estimate[1]\n",
    "    if color is None:\n",
    "        color = ax.get_lines()[-1].get_color()\n",
    "    ax.axhspan(mean-err, mean+err, color=color, alpha=0.5, linestyle='none')"
   ]
  },
  {
   "cell_type": "markdown",
   "id": "48cb582d-841a-4e4d-8ce6-8ad1783d8928",
   "metadata": {
    "tags": []
   },
   "source": [
    "# Villain Formulation"
   ]
  },
  {
   "cell_type": "markdown",
   "id": "e871d169-32eb-4d45-9404-2d30a1b34e65",
   "metadata": {},
   "source": [
    "The Villain formulation is best when κ is small.  Since κ lives upstairs in the action, a small action allows easier transitions and yields more likely acceptance for local proposals."
   ]
  },
  {
   "cell_type": "code",
   "execution_count": null,
   "id": "7bd7a18d-db30-4461-86c9-8c1dafd5471f",
   "metadata": {},
   "outputs": [],
   "source": [
    "kappa = 0.1\n",
    "S = supervillain.Villain(L, kappa)"
   ]
  },
  {
   "cell_type": "markdown",
   "id": "da2515f3-656b-4c96-85b4-6b3e18b1a530",
   "metadata": {},
   "source": [
    "We use a simple single-site (and adjoining link) update."
   ]
  },
  {
   "cell_type": "code",
   "execution_count": null,
   "id": "2b249e7d-9a25-4c65-a1ad-6548847b0bd8",
   "metadata": {},
   "outputs": [],
   "source": [
    "G = supervillain.generator.NeighborhoodUpdate(S)\n",
    "v = supervillain.Ensemble(S).generate(configurations, G, start='cold', progress=tqdm)"
   ]
  },
  {
   "cell_type": "code",
   "execution_count": null,
   "id": "dd973e8c-056f-4c0d-a595-a52f09b7e9db",
   "metadata": {},
   "outputs": [],
   "source": [
    "print(G.report())\n",
    "print(f'S/Λ    {error_format(naive_estimate(v.InternalEnergyDensity))}')\n",
    "print(f'dn^2   {error_format(naive_estimate(v.WindingSquared))}')\n",
    "\n",
    "autocorrelation = max([\n",
    "    supervillain.analysis.autocorrelation_time(o)\n",
    "    for o in (v.InternalEnergyDensity, v.WindingSquared)])\n",
    "\n",
    "print(f'τ      {autocorrelation}')"
   ]
  },
  {
   "cell_type": "code",
   "execution_count": null,
   "id": "12efc927-3352-4586-8adc-a2d9fc98a0b4",
   "metadata": {},
   "outputs": [],
   "source": [
    "ax = plot(v)"
   ]
  },
  {
   "cell_type": "code",
   "execution_count": null,
   "id": "4bf9f375-4ce1-4e3c-9c50-757a2f2e3191",
   "metadata": {},
   "outputs": [],
   "source": [
    "with h5.File(storage, 'a') as f:\n",
    "    v.to_h5(f.create_group(f'ensemble/{kappa=}'))"
   ]
  },
  {
   "cell_type": "markdown",
   "id": "ae70675d-ca1a-49f4-abaa-57615c70936c",
   "metadata": {},
   "source": [
    "With the ensemble and an estimate for the autocorrelation we can thermalize and decorrelate."
   ]
  },
  {
   "cell_type": "code",
   "execution_count": null,
   "id": "1181a4fd-59c6-49c1-8485-94994b04860c",
   "metadata": {},
   "outputs": [],
   "source": [
    "v_independent = v.cut(10*autocorrelation).every(5*autocorrelation)\n",
    "# 10 and 3 are chosen to be 'large' so that the the resulting samples are independent.\n",
    "# We can calculate the autocorrelation time for the thermalized and decimated samples\n",
    "independent_autocorrelation = max([\n",
    "    supervillain.analysis.autocorrelation_time(o)\n",
    "    for o in (v_independent.InternalEnergyDensity, v_independent.WindingSquared)])\n",
    "print(independent_autocorrelation)"
   ]
  },
  {
   "cell_type": "markdown",
   "id": "a8dd069b-4d1c-49c6-a67b-5a7072a5b7cb",
   "metadata": {},
   "source": [
    "We can visualize the original and decorrelated samples,"
   ]
  },
  {
   "cell_type": "code",
   "execution_count": null,
   "id": "62fce2b8-aa8e-4654-9de5-9fa0049c7dd2",
   "metadata": {},
   "outputs": [],
   "source": [
    "ax = plot(v)\n",
    "ax = plot(v_independent, ax)"
   ]
  },
  {
   "cell_type": "markdown",
   "id": "ce557a7b-863a-487d-97bd-cf2f19d9bd96",
   "metadata": {},
   "source": [
    "Now, with independent samples we can perform bootstrap estimates."
   ]
  },
  {
   "cell_type": "code",
   "execution_count": null,
   "id": "889dffc7-fe1b-4a88-8074-09177e63b126",
   "metadata": {},
   "outputs": [],
   "source": [
    "b = supervillain.analysis.Bootstrap(v_independent, bootstrap_resampling)"
   ]
  },
  {
   "cell_type": "markdown",
   "id": "ec30417e-8d84-4a93-aa92-fee4bf223fd8",
   "metadata": {},
   "source": [
    "We can just print them prettily"
   ]
  },
  {
   "cell_type": "code",
   "execution_count": null,
   "id": "b70664e4-17ad-41a9-bb72-70a9654ba52f",
   "metadata": {},
   "outputs": [],
   "source": [
    "print(f'S/Λ    {error_format(bootstrap_estimate(b.InternalEnergyDensity))}')\n",
    "print(f'dn^2   {error_format(bootstrap_estimate(b.WindingSquared))}')"
   ]
  },
  {
   "cell_type": "markdown",
   "id": "acdf29c2-c507-48f4-960e-ab67ecfd107f",
   "metadata": {},
   "source": [
    "or draw the estimates as uncertainty bands"
   ]
  },
  {
   "cell_type": "code",
   "execution_count": null,
   "id": "eae9cbdc-982e-42a1-a42f-9a4f66b91720",
   "metadata": {},
   "outputs": [],
   "source": [
    "ax = plot(v)\n",
    "ax = plot(v_independent, ax)\n",
    "\n",
    "band(ax[0,0], bootstrap_estimate(b.InternalEnergyDensity))\n",
    "band(ax[1,0], bootstrap_estimate(b.WindingSquared))"
   ]
  },
  {
   "cell_type": "code",
   "execution_count": null,
   "id": "c6109d48-042f-40c7-8c95-bd401136285a",
   "metadata": {},
   "outputs": [],
   "source": [
    "with h5.File(storage, 'a') as f:\n",
    "    b.to_h5(f.create_group(f'/bootstrap/{kappa=}'))"
   ]
  },
  {
   "cell_type": "markdown",
   "id": "ec3ad858-7db1-4b40-806f-000346a1b5e1",
   "metadata": {
    "tags": []
   },
   "source": [
    "# Worldline Formulation"
   ]
  },
  {
   "cell_type": "markdown",
   "id": "830427aa-0081-43f2-ae89-66feee4efc5a",
   "metadata": {},
   "source": [
    "The Worldline formulation is best when κ is big.  Since κ lives downstairs in the action, a big κ allows easier transitions and yields more likely acceptance for proposals."
   ]
  },
  {
   "cell_type": "code",
   "execution_count": null,
   "id": "98d4016e-52ea-46a4-8db7-6fb05edd53ed",
   "metadata": {},
   "outputs": [],
   "source": [
    "kappa = 1.0\n",
    "S = supervillain.action.Worldline(L, kappa)\n",
    "p = supervillain.generator.constraint.PlaquetteUpdate(S)\n",
    "h = supervillain.generator.constraint.HolonomyUpdate(S)\n",
    "\n",
    "G = supervillain.generator.combining.Sequentially((p, h))  \n",
    "w = supervillain.Ensemble(S).generate(configurations, G, start='cold', progress=tqdm)"
   ]
  },
  {
   "cell_type": "code",
   "execution_count": null,
   "id": "d5c1b83a-1593-41cc-8879-c97870f411fb",
   "metadata": {},
   "outputs": [],
   "source": [
    "print(G.report())\n",
    "print(f'S/Λ    {error_format(naive_estimate(w.InternalEnergyDensity))}')\n",
    "print(f'dn^2   {error_format(naive_estimate(w.WindingSquared))}')\n",
    "\n",
    "autocorrelation = max([\n",
    "    supervillain.analysis.autocorrelation_time(o)\n",
    "    for o in (w.InternalEnergyDensity, w.WindingSquared,\n",
    "              # Holonomies:\n",
    "              w.configurations.m[:,0].sum(axis=2).sum(axis=1),\n",
    "              w.configurations.m[:,1].sum(axis=2).sum(axis=1),\n",
    "             )])\n",
    "\n",
    "print(f'τ      {autocorrelation}')"
   ]
  },
  {
   "cell_type": "code",
   "execution_count": null,
   "id": "686a9c49-3f15-4e5f-8283-91b83ee26779",
   "metadata": {},
   "outputs": [],
   "source": [
    "ax = plot(w)"
   ]
  },
  {
   "cell_type": "code",
   "execution_count": null,
   "id": "2aef7c46-5eab-4b81-bdee-3f64a9fe9e71",
   "metadata": {},
   "outputs": [],
   "source": [
    "with h5.File(storage, 'a') as f:\n",
    "    w.to_h5(f.create_group(f'ensemble/{kappa=}'))"
   ]
  },
  {
   "cell_type": "markdown",
   "id": "67b54e87-853b-4b8a-97fa-6cd3834988cf",
   "metadata": {},
   "source": [
    "With the ensemble and an estimate for the autocorrelation we can thermalize and decorrelate."
   ]
  },
  {
   "cell_type": "code",
   "execution_count": null,
   "id": "bce3c20d-6655-4a46-91ba-ef07bc455091",
   "metadata": {},
   "outputs": [],
   "source": [
    "w_independent = w.cut(10*autocorrelation).every(5*autocorrelation)\n",
    "# 10 and 5 are chosen to be 'large'.\n",
    "# We can calculate the autocorrelation time for the thermalized and decimated samples\n",
    "independent_autocorrelation = max([\n",
    "    supervillain.analysis.autocorrelation_time(o)\n",
    "    for o in (w_independent.InternalEnergyDensity, w_independent.WindingSquared)])\n",
    "print(independent_autocorrelation)"
   ]
  },
  {
   "cell_type": "markdown",
   "id": "c6cdd342-b11b-488c-a77a-7a65da64362b",
   "metadata": {},
   "source": [
    "We can visualize the original and decorrelated samples,"
   ]
  },
  {
   "cell_type": "code",
   "execution_count": null,
   "id": "692adace-e46f-47dd-91b2-95694539e5c0",
   "metadata": {},
   "outputs": [],
   "source": [
    "ax = plot(w)\n",
    "ax = plot(w_independent, ax=ax)"
   ]
  },
  {
   "cell_type": "markdown",
   "id": "78d41c4f-6a77-434e-b1d9-50208540319d",
   "metadata": {},
   "source": [
    "Now, with independent samples we can perform bootstrap estimates."
   ]
  },
  {
   "cell_type": "code",
   "execution_count": null,
   "id": "17af5088-fa7e-4d4f-9340-eefc6fa96c3e",
   "metadata": {},
   "outputs": [],
   "source": [
    "b = supervillain.analysis.Bootstrap(w_independent, bootstrap_resampling)"
   ]
  },
  {
   "cell_type": "markdown",
   "id": "a5bc57b1-f87d-46cd-a385-b8f42d272769",
   "metadata": {},
   "source": [
    "We can just print them prettily"
   ]
  },
  {
   "cell_type": "code",
   "execution_count": null,
   "id": "5a831fef-b9b9-4907-8aad-c28006a198f5",
   "metadata": {},
   "outputs": [],
   "source": [
    "print(f'S/Λ    {error_format(bootstrap_estimate(b.InternalEnergyDensity))}')\n",
    "print(f'dn^2   {error_format(bootstrap_estimate(b.WindingSquared))}')"
   ]
  },
  {
   "cell_type": "markdown",
   "id": "83af230e-8cf0-4088-bbe2-8c3eb300c75e",
   "metadata": {},
   "source": [
    "or draw the estimates as uncertainty bands"
   ]
  },
  {
   "cell_type": "code",
   "execution_count": null,
   "id": "9bdd2aa7-e31b-4310-bc5f-9c6b62203687",
   "metadata": {},
   "outputs": [],
   "source": [
    "ax = plot(w)\n",
    "ax = plot(w_independent, ax=ax)\n",
    "\n",
    "band(ax[0,0], bootstrap_estimate(b.InternalEnergyDensity))\n",
    "band(ax[1,0], bootstrap_estimate(b.WindingSquared))"
   ]
  },
  {
   "cell_type": "code",
   "execution_count": null,
   "id": "9813ee07-32c1-478a-a554-8ee07b7f211c",
   "metadata": {},
   "outputs": [],
   "source": [
    "with h5.File(storage, 'a') as f:\n",
    "    b.to_h5(f.create_group(f'/bootstrap/{kappa=}'))"
   ]
  },
  {
   "cell_type": "markdown",
   "id": "a1f24e0d-4038-4bd5-a604-2d1157183f6c",
   "metadata": {},
   "source": [
    "# Comparison"
   ]
  },
  {
   "cell_type": "markdown",
   "id": "c141df0e-bc87-4061-93f1-3adddd13c79b",
   "metadata": {},
   "source": [
    "Since we wrote both bootstraps to disk we can read them in and compare some observables.\n",
    "\n",
    "(Of course, we should take the continuum / infinite-volume limit to have a truly fair comparison between different κs!)"
   ]
  },
  {
   "cell_type": "code",
   "execution_count": null,
   "id": "f59e02b8-0350-48c0-bb6d-22169e55782f",
   "metadata": {},
   "outputs": [],
   "source": [
    "with h5.File(storage, 'r') as f:\n",
    "    V = supervillain.analysis.Bootstrap.from_h5(f[f'/bootstrap/kappa=0.1'])\n",
    "    W = supervillain.analysis.Bootstrap.from_h5(f[f'/bootstrap/kappa=1.0'])"
   ]
  },
  {
   "cell_type": "markdown",
   "id": "abfe8bb8-4952-4400-b199-361a8f7b6e01",
   "metadata": {},
   "source": [
    "We (approximately) know κ critical"
   ]
  },
  {
   "cell_type": "code",
   "execution_count": null,
   "id": "05b97e0c-ba6d-4d65-873f-8929e3d47f55",
   "metadata": {},
   "outputs": [],
   "source": [
    "kappa_critical = 0.740"
   ]
  },
  {
   "cell_type": "markdown",
   "id": "14c1be98-7532-40cb-a8b8-bfa539752cc3",
   "metadata": {},
   "source": [
    "and can draw it on our figures."
   ]
  },
  {
   "cell_type": "code",
   "execution_count": null,
   "id": "f687e85a-5157-4a81-a20e-6bf4d05f453f",
   "metadata": {},
   "outputs": [],
   "source": [
    "fig, ax = plt.subplots(2,1, figsize=(8, 6), sharex='col')\n",
    "\n",
    "style = {'marker': 'o', 'markerfacecolor': 'none'}\n",
    "\n",
    "ax[0].errorbar([1/0.1,], *bootstrap_estimate(V.InternalEnergyDensity), **style)\n",
    "ax[0].errorbar([1/1.0,], *bootstrap_estimate(W.InternalEnergyDensity), **style)\n",
    "\n",
    "ax[1].errorbar([1/0.1,], *bootstrap_estimate(V.WindingSquared), **style)\n",
    "ax[1].errorbar([1/1.0,], *bootstrap_estimate(W.WindingSquared), **style)\n",
    "\n",
    "ax[0].set_xlim(0, 11)\n",
    "\n",
    "for a in ax:\n",
    "    a.axvline(1/kappa_critical, color='black')\n",
    "\n",
    "ax[0].set_ylabel('U/Λ')\n",
    "ax[1].set_ylabel('w^2')\n",
    "ax[-1].set_xlabel('1/κ')"
   ]
  },
  {
   "cell_type": "code",
   "execution_count": null,
   "id": "7541a593-8fb0-408e-b61a-27f37517e22e",
   "metadata": {},
   "outputs": [],
   "source": []
  }
 ],
 "metadata": {
  "kernelspec": {
   "display_name": "Python 3 (ipykernel)",
   "language": "python",
   "name": "python3"
  },
  "language_info": {
   "codemirror_mode": {
    "name": "ipython",
    "version": 3
   },
   "file_extension": ".py",
   "mimetype": "text/x-python",
   "name": "python",
   "nbconvert_exporter": "python",
   "pygments_lexer": "ipython3",
   "version": "3.9.13"
  }
 },
 "nbformat": 4,
 "nbformat_minor": 5
}
