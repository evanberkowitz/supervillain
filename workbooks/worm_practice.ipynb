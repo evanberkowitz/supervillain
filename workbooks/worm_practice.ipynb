{
 "cells": [
  {
   "cell_type": "code",
   "execution_count": 1,
   "metadata": {},
   "outputs": [],
   "source": [
    "import numpy as np\n",
    "import supervillain as sv\n",
    "from supervillain.h5 import H5able\n",
    "import matplotlib.pyplot as plt\n",
    "import matplotlib\n",
    "from cycler import cycler\n",
    "import matplotlib.colors as colors\n",
    "from tqdm.notebook import tqdm"
   ]
  },
  {
   "cell_type": "code",
   "execution_count": 2,
   "metadata": {},
   "outputs": [],
   "source": [
    "rng = np.random.default_rng()"
   ]
  },
  {
   "cell_type": "code",
   "execution_count": 3,
   "metadata": {},
   "outputs": [],
   "source": [
    "L = sv.lattice.Lattice2D(5)\n",
    "S = sv.action.Worldline(L,0.5)"
   ]
  },
  {
   "cell_type": "code",
   "execution_count": 4,
   "metadata": {},
   "outputs": [],
   "source": [
    "W = sv.generator.worm.UndirectedWorm(S)"
   ]
  },
  {
   "cell_type": "code",
   "execution_count": 5,
   "metadata": {},
   "outputs": [
    {
     "data": {
      "application/vnd.jupyter.widget-view+json": {
       "model_id": "1fa4396dea844e7e82bc656fbfb8e353",
       "version_major": 2,
       "version_minor": 0
      },
      "text/plain": [
       "  0%|          | 0/9999 [00:00<?, ?it/s]"
      ]
     },
     "metadata": {},
     "output_type": "display_data"
    }
   ],
   "source": [
    "w = sv.Ensemble(S).generate(10000, W, start = 'cold', progress = tqdm)"
   ]
  },
  {
   "cell_type": "code",
   "execution_count": 6,
   "metadata": {},
   "outputs": [
    {
     "name": "stdout",
     "output_type": "stream",
     "text": [
      "2\n"
     ]
    }
   ],
   "source": [
    "newmax = 0\n",
    "for i in range(len(w.configurations)):\n",
    "    newmax = max(newmax,np.max(np.abs(w.configurations[i]['m'])))\n",
    "print(newmax)"
   ]
  },
  {
   "cell_type": "code",
   "execution_count": 10,
   "metadata": {},
   "outputs": [
    {
     "name": "stdout",
     "output_type": "stream",
     "text": [
      "There were 9807 single-site proposals accepted of 0 proposed updates.\n",
      "    0.980700 acceptance rate\n",
      "    0.982740 average Metropolis acceptance probability.\n"
     ]
    }
   ],
   "source": [
    "print(W.report())"
   ]
  },
  {
   "cell_type": "code",
   "execution_count": 11,
   "metadata": {},
   "outputs": [
    {
     "name": "stderr",
     "output_type": "stream",
     "text": [
      "C:\\Users\\coeps\\Documents\\Supervillain\\supervillain\\supervillain\\lattice.py:934: UserWarning: No data for colormapping provided via 'c'. Parameters 'norm' will be ignored\n",
      "  axis.scatter(self.T, self.X, color=background, **zorder, **marker)\n"
     ]
    },
    {
     "data": {
      "text/plain": [
       "<matplotlib.colorbar.Colorbar at 0x1a9c8bd1a30>"
      ]
     },
     "execution_count": 11,
     "metadata": {},
     "output_type": "execute_result"
    },
    {
     "data": {
      "image/png": "[encoded data removed]",
      "text/plain": [
       "<Figure size 640x480 with 2 Axes>"
      ]
     },
     "metadata": {},
     "output_type": "display_data"
    }
   ],
   "source": [
    "fig, ax = plt.subplots(1,1)\n",
    "start = {}\n",
    "start['m'] = L.form(1)\n",
    "current = W.step(start)\n",
    "L.plot_form(1,current['m'],ax)\n",
    "fig.colorbar(ax.get_children()[0])"
   ]
  },
  {
   "cell_type": "code",
   "execution_count": 12,
   "metadata": {},
   "outputs": [
    {
     "data": {
      "text/plain": [
       "0"
      ]
     },
     "execution_count": 12,
     "metadata": {},
     "output_type": "execute_result"
    }
   ],
   "source": [
    "L.count_loops(current['m'])"
   ]
  },
  {
   "cell_type": "code",
   "execution_count": 13,
   "metadata": {},
   "outputs": [
    {
     "data": {
      "text/plain": [
       "array([[[0., 0., 0., 0., 0.],\n",
       "        [0., 0., 0., 0., 0.],\n",
       "        [0., 0., 0., 0., 0.],\n",
       "        [0., 0., 0., 0., 0.],\n",
       "        [0., 0., 0., 0., 0.]],\n",
       "\n",
       "       [[0., 0., 0., 0., 0.],\n",
       "        [0., 0., 0., 0., 0.],\n",
       "        [0., 0., 0., 0., 0.],\n",
       "        [0., 0., 0., 0., 0.],\n",
       "        [0., 0., 0., 0., 0.]]])"
      ]
     },
     "execution_count": 13,
     "metadata": {},
     "output_type": "execute_result"
    }
   ],
   "source": [
    "current['m']"
   ]
  },
  {
   "cell_type": "code",
   "execution_count": 14,
   "metadata": {},
   "outputs": [
    {
     "data": {
      "text/plain": [
       "{'m': array([[[0., 0., 0., 0., 0.],\n",
       "         [0., 0., 0., 0., 0.],\n",
       "         [0., 0., 0., 0., 0.],\n",
       "         [0., 0., 0., 0., 0.],\n",
       "         [0., 0., 0., 0., 0.]],\n",
       " \n",
       "        [[0., 0., 0., 0., 0.],\n",
       "         [0., 0., 0., 0., 0.],\n",
       "         [0., 0., 0., 0., 0.],\n",
       "         [0., 0., 0., 0., 0.],\n",
       "         [0., 0., 0., 0., 0.]]])}"
      ]
     },
     "execution_count": 14,
     "metadata": {},
     "output_type": "execute_result"
    }
   ],
   "source": [
    "current"
   ]
  },
  {
   "cell_type": "code",
   "execution_count": 15,
   "metadata": {},
   "outputs": [],
   "source": [
    "loop_example= L.form(1)\n",
    "loop_example[0,0,4]=1\n",
    "loop_example[1,0,4]=-1\n",
    "loop_example[1,1,4]=1\n",
    "loop_example[0,0,0]=-1\n",
    "\n",
    "loop_example[0,0,1]=1\n",
    "loop_example[1,0,1]=-1\n",
    "loop_example[1,1,1]=1\n",
    "loop_example[0,0,2]=-1\n"
   ]
  },
  {
   "cell_type": "code",
   "execution_count": 16,
   "metadata": {},
   "outputs": [
    {
     "data": {
      "text/plain": [
       "<matplotlib.quiver.Quiver at 0x1a9c8c88500>"
      ]
     },
     "execution_count": 16,
     "metadata": {},
     "output_type": "execute_result"
    },
    {
     "data": {
      "image/png": "[encoded data removed]",
      "text/plain": [
       "<Figure size 640x480 with 1 Axes>"
      ]
     },
     "metadata": {},
     "output_type": "display_data"
    }
   ],
   "source": [
    "fig, ax = plt.subplots(1,1)\n",
    "L.plot_form(1,loop_example,ax)"
   ]
  },
  {
   "cell_type": "code",
   "execution_count": 17,
   "metadata": {},
   "outputs": [
    {
     "data": {
      "text/plain": [
       "[array([[[0., 0., 0., 0., 0.],\n",
       "         [0., 0., 0., 0., 0.],\n",
       "         [0., 0., 0., 0., 0.],\n",
       "         [0., 0., 0., 0., 0.],\n",
       "         [0., 0., 0., 0., 0.]],\n",
       " \n",
       "        [[1., 0., 0., 0., 0.],\n",
       "         [0., 0., 0., 0., 0.],\n",
       "         [0., 0., 0., 0., 0.],\n",
       "         [0., 0., 0., 0., 0.],\n",
       "         [0., 0., 0., 0., 0.]]]),\n",
       " array([0, 1]),\n",
       " [0.25, 0.25, 0.25, 0.25],\n",
       " 1.4715177646857693]"
      ]
     },
     "execution_count": 17,
     "metadata": {},
     "output_type": "execute_result"
    }
   ],
   "source": [
    "W.burrow(current['m'],[0,0])"
   ]
  },
  {
   "cell_type": "code",
   "execution_count": 18,
   "metadata": {},
   "outputs": [
    {
     "data": {
      "text/plain": [
       "array([[0., 0., 0., 0., 0.],\n",
       "       [0., 0., 0., 0., 0.],\n",
       "       [0., 0., 0., 0., 0.],\n",
       "       [0., 0., 0., 0., 0.],\n",
       "       [0., 0., 0., 0., 0.]])"
      ]
     },
     "execution_count": 18,
     "metadata": {},
     "output_type": "execute_result"
    }
   ],
   "source": [
    "L.delta(1,loop_example)"
   ]
  },
  {
   "cell_type": "code",
   "execution_count": 19,
   "metadata": {},
   "outputs": [],
   "source": [
    "test = {}\n",
    "test['m'] = loop_example\n",
    "test['p'] = L.form(2)"
   ]
  },
  {
   "cell_type": "code",
   "execution_count": 20,
   "metadata": {},
   "outputs": [
    {
     "name": "stdout",
     "output_type": "stream",
     "text": [
      "0\n"
     ]
    }
   ],
   "source": [
    "# maplist = ['None','red','pink','blue','cyan','green','lime']\n",
    "# maplist = ['None','red','orange','yellow','green','lime','blue']\n",
    "maplist = []\n",
    "def maxmag(N : np.array):\n",
    "    return N.flat[np.abs(N).argmax()]  \n",
    "def minmag(N : np.array):\n",
    "    return N.flat[np.abs(N).argmax()]  \n",
    "for i in range(len(maplist)//2):\n",
    "    maplist.append([(1/len(maplist)*2)*(i+1)+0,0,0])\n",
    "    maplist.insert(0,[0,0,1/len(maplist)*2*(i+1)])\n",
    "for i in range(len(maplist)//2):\n",
    "    maplist.append([0,(1/len(maplist)*2)*(i+1)+0,0])\n",
    "    maplist.insert(0,[0,(1/len(maplist)*2)*(i+1)+0,(1/len(maplist)*2)*(i+1)+0])\n",
    "print(len(maplist))\n",
    "mycmap = colors.ListedColormap(maplist)\n",
    "def plot_worms(cfg,fig = None,ax = None, norm = None ,cmap = None):\n",
    "    if norm == None:\n",
    "        norm = colors.Normalize(vmin = -np.max([1,np.abs(np.min(cfg)),np.abs(np.min(cfg))]), vmax = np.max([1,np.abs(np.min(cfg)),np.abs(np.min(cfg))]))\n",
    "    if fig == None or ax == None:\n",
    "        fig, ax = plt.subplots(1,1)\n",
    "    links = [0,0] \n",
    "    links[0] = L.plot_form(1,cfg,ax,norm = norm,cmap = cmap, linkwidth = 0.04)\n",
    "    links[1] = L.plot_form(2,L.d(1,cfg),ax,norm = norm,cmap = cmap)\n",
    "    fig.colorbar(links[0])\n",
    "    return links"
   ]
  },
  {
   "cell_type": "code",
   "execution_count": 21,
   "metadata": {},
   "outputs": [
    {
     "name": "stderr",
     "output_type": "stream",
     "text": [
      "C:\\Users\\coeps\\Documents\\Supervillain\\supervillain\\supervillain\\lattice.py:946: UserWarning: No data for colormapping provided via 'c'. Parameters 'norm' will be ignored\n",
      "  axis.scatter(self.T, self.X, color=background, **zorder, **marker)\n"
     ]
    },
    {
     "data": {
      "image/png": "[encoded data removed]",
      "text/plain": [
       "<Figure size 1000x1000 with 2 Axes>"
      ]
     },
     "metadata": {},
     "output_type": "display_data"
    }
   ],
   "source": [
    "fig, ax = plt.subplots(1,1, figsize = (10,10))\n",
    "a = plot_worms(loop_example,fig,ax)"
   ]
  },
  {
   "cell_type": "code",
   "execution_count": 22,
   "metadata": {},
   "outputs": [
    {
     "data": {
      "text/plain": [
       "2"
      ]
     },
     "execution_count": 22,
     "metadata": {},
     "output_type": "execute_result"
    }
   ],
   "source": [
    "S.count_loops(loop_example)"
   ]
  },
  {
   "cell_type": "code",
   "execution_count": 23,
   "metadata": {},
   "outputs": [
    {
     "data": {
      "text/plain": [
       "[<matplotlib.quiver.Quiver at 0x1a9cc449910>,\n",
       " <matplotlib.image.AxesImage at 0x1a9c9ceb680>]"
      ]
     },
     "execution_count": 23,
     "metadata": {},
     "output_type": "execute_result"
    },
    {
     "data": {
      "image/png": "[encoded data removed]",
      "text/plain": [
       "<Figure size 1500x700 with 6 Axes>"
      ]
     },
     "metadata": {},
     "output_type": "display_data"
    }
   ],
   "source": [
    "fig, ax = plt.subplots(1,3, figsize = (15,7))\n",
    "plot_worms(loop_example,fig,ax[0])\n",
    "plot_worms(current['m'],fig,ax[1])\n",
    "plot_worms(L.delta(2,L.d(1,loop_example)),fig,ax[2])"
   ]
  },
  {
   "cell_type": "code",
   "execution_count": 24,
   "metadata": {},
   "outputs": [
    {
     "data": {
      "text/plain": [
       "<matplotlib.colorbar.Colorbar at 0x1a9c9cfc740>"
      ]
     },
     "execution_count": 24,
     "metadata": {},
     "output_type": "execute_result"
    },
    {
     "data": {
      "image/png": "[encoded data removed]",
      "text/plain": [
       "<Figure size 640x480 with 2 Axes>"
      ]
     },
     "metadata": {},
     "output_type": "display_data"
    }
   ],
   "source": [
    "fig, ax = plt.subplots(1,1)\n",
    "test = loop_example.copy()\n",
    "test = np.abs(test)\n",
    "q = 1\n",
    "ledger = L.form(0)\n",
    "for i in range(L.dims[0]):\n",
    "    for j in range(L.dims[1]):\n",
    "        if (np.array([test[0,i,j],test[1,i,j],test[0,i-1,j],test[1,i,j-1]])>0).any():\n",
    "            ledger[i,j]=q\n",
    "            q+=1\n",
    "L.plot_form(0,ledger,ax)\n",
    "plt.colorbar(ax.get_children()[0])"
   ]
  },
  {
   "cell_type": "code",
   "execution_count": 25,
   "metadata": {},
   "outputs": [],
   "source": [
    "def count_loops(cfg):\n",
    "    cfgabs = np.abs(cfg)\n",
    "    #Takes the absolute value of a configuration's links to determine where a worm perturbation is\n",
    "    #This must be applied to a worm on a zero background field, (or just subtract out the background field from before the worm)\n",
    "    \n",
    "    #Here I am checking each site for whether it lies on the worm (has an adjacent non-zero link),\n",
    "    #and if so then give it an integer value. This is basically just a unique identifier, so the integer value \n",
    "    #increments each time\n",
    "    q = 1\n",
    "    ledger = L.form(0)\n",
    "    for i in range(L.dims[0]):\n",
    "        for j in range(L.dims[1]):\n",
    "            if (np.array([cfgabs[0,i,j],cfgabs[1,i,j],cfgabs[0,i-1,j],cfgabs[1,i,j-1]])>0).any():\n",
    "                ledger[i,j]=q\n",
    "                q+=1\n",
    "\n",
    "    oldledger = np.empty_like(ledger)\n",
    "    while (ledger != oldledger).any():  #As long as we are not in a steady state\n",
    "        oldledger = ledger.copy()\n",
    "        for i in range(ledger.shape[0]):\n",
    "            for j in range(ledger.shape[1]):\n",
    "                if ledger[i,j] != 0:\n",
    "                    for adj in [1,2,3,4]:   #Sift through each non-zero point in the ledger and its \n",
    "                        #adjacent links\n",
    "                        #[1,2,3,4] -> [East,N,W,S]\n",
    "                        if adj == 1:\n",
    "                            test_link = cfgabs[0,i,j]\n",
    "                            if test_link > 0:\n",
    "                                #Here we check if the worm passes through a neighboring link, and if so we take\n",
    "                                #the maximum of the two points connected by that link and adopt that for both\n",
    "                                ledger[i,j] = max(ledger[i,j],ledger[L.mod([i+1,j])[0],L.mod([i+1,j])[1]])\n",
    "                                ledger[L.mod([i+1,j])[0],L.mod([i+1,j])[1]] = ledger[i,j]\n",
    "                        if adj == 2:\n",
    "                            test_link = cfgabs[1,i,j]\n",
    "                            if test_link > 0:\n",
    "                                ledger[i,j] = max(ledger[i,j],ledger[L.mod([i,j+1])[0],L.mod([i,j+1])[1]])\n",
    "                                ledger[L.mod([i,j+1])[0],L.mod([i,j+1])[1]] = ledger[i,j]\n",
    "                        if adj == 3:\n",
    "                            test_link = cfgabs[0,i-1,j]\n",
    "                            if test_link > 0:\n",
    "                                ledger[i,j] = max(ledger[i,j],ledger[L.mod([i-1,j])[0],L.mod([i-1,j])[1]])\n",
    "                                ledger[L.mod([i-1,j])[0],L.mod([i-1,j])[1]] = ledger[i,j]\n",
    "                        if adj == 4:\n",
    "                            test_link = cfgabs[1,i,j-1]\n",
    "                            if test_link > 0:\n",
    "                                ledger[i,j] = max(ledger[i,j],ledger[L.mod([i,j-1])[0],L.mod([i,j-1])[1]])\n",
    "                                ledger[L.mod([i,j-1])[0],L.mod([i,j-1])[1]] = ledger[i,j]\n",
    "    #Once the process reaches a steady state, ie. the maximums in all connected loops have proliferated\n",
    "    #we can just count the number of unique maximums that we obtain (other than 0)\n",
    "    return np.sum(np.unique(ledger) > 0)"
   ]
  },
  {
   "cell_type": "code",
   "execution_count": 26,
   "metadata": {},
   "outputs": [
    {
     "data": {
      "text/plain": [
       "8"
      ]
     },
     "execution_count": 26,
     "metadata": {},
     "output_type": "execute_result"
    }
   ],
   "source": [
    "np.sum(np.unique(ledger) > 0)"
   ]
  },
  {
   "cell_type": "code",
   "execution_count": 27,
   "metadata": {},
   "outputs": [
    {
     "data": {
      "text/plain": [
       "1"
      ]
     },
     "execution_count": 27,
     "metadata": {},
     "output_type": "execute_result"
    }
   ],
   "source": [
    "count_loops(w.configurations.fields['m'][-3])"
   ]
  },
  {
   "cell_type": "markdown",
   "metadata": {},
   "source": [
    "## Single step proof of concept"
   ]
  },
  {
   "cell_type": "code",
   "execution_count": 28,
   "metadata": {},
   "outputs": [
    {
     "ename": "ValueError",
     "evalue": "too many values to unpack (expected 3)",
     "output_type": "error",
     "traceback": [
      "\u001b[1;31m---------------------------------------------------------------------------\u001b[0m",
      "\u001b[1;31mValueError\u001b[0m                                Traceback (most recent call last)",
      "Cell \u001b[1;32mIn[28], line 12\u001b[0m\n\u001b[0;32m     10\u001b[0m probslist \u001b[38;5;241m=\u001b[39m []\n\u001b[0;32m     11\u001b[0m \u001b[38;5;28;01mwhile\u001b[39;00m (endpoint \u001b[38;5;241m!=\u001b[39m startpoint)\u001b[38;5;241m.\u001b[39many():\n\u001b[1;32m---> 12\u001b[0m     newconfig, endpoint, probs \u001b[38;5;241m=\u001b[39m W\u001b[38;5;241m.\u001b[39mburrow(currentconfig, currentpoint)\n\u001b[0;32m     13\u001b[0m     currentpoint \u001b[38;5;241m=\u001b[39m endpoint\u001b[38;5;241m.\u001b[39mcopy()\n\u001b[0;32m     14\u001b[0m     currentconfig \u001b[38;5;241m=\u001b[39m newconfig\u001b[38;5;241m.\u001b[39mcopy()\n",
      "\u001b[1;31mValueError\u001b[0m: too many values to unpack (expected 3)"
     ]
    },
    {
     "data": {
      "image/png": "[encoded data removed]",
      "text/plain": [
       "<Figure size 640x480 with 1 Axes>"
      ]
     },
     "metadata": {},
     "output_type": "display_data"
    }
   ],
   "source": [
    "fig, ax = plt.subplots(1,1)\n",
    "startpoint = np.array([0,0])\n",
    "endpoint = startpoint + np.array([1,1])\n",
    "currentpoint = startpoint.copy()\n",
    "configlist = []\n",
    "propositions=0\n",
    "currentconfig = L.form(1)\n",
    "initconfig = currentconfig.copy()\n",
    "length = 0\n",
    "probslist = []\n",
    "while (endpoint != startpoint).any():\n",
    "    newconfig, endpoint, probs = W.burrow(currentconfig, currentpoint)\n",
    "    currentpoint = endpoint.copy()\n",
    "    currentconfig = newconfig.copy()\n",
    "    configlist.append(currentconfig)\n",
    "    propositions += 1\n",
    "length = np.sum(np.abs(currentconfig-initconfig))\n",
    "print(f'Propositions: {propositions}')\n",
    "print(f'Length: {length}')\n",
    "L.plot_form(1,currentconfig,ax)\n",
    "fig.colorbar(ax.get_children()[0], ax=ax, orientation='horizontal')"
   ]
  },
  {
   "cell_type": "code",
   "execution_count": 29,
   "metadata": {},
   "outputs": [
    {
     "data": {
      "text/plain": [
       "[<matplotlib.spines.Spine at 0x1a9c9ce9130>,\n",
       " <matplotlib.spines.Spine at 0x1a9cc4c3aa0>,\n",
       " <matplotlib.spines.Spine at 0x1a9cc4c0230>,\n",
       " <matplotlib.spines.Spine at 0x1a9cc4c0830>,\n",
       " <matplotlib.axis.XAxis at 0x1a9cc590830>,\n",
       " <matplotlib.axis.YAxis at 0x1a9cc528470>,\n",
       " Text(0.5, 1.0, ''),\n",
       " Text(0.0, 1.0, ''),\n",
       " Text(1.0, 1.0, ''),\n",
       " <matplotlib.patches.Rectangle at 0x1a9cc5d0500>]"
      ]
     },
     "execution_count": 29,
     "metadata": {},
     "output_type": "execute_result"
    }
   ],
   "source": [
    "ax.get_children()"
   ]
  },
  {
   "cell_type": "code",
   "execution_count": 30,
   "metadata": {},
   "outputs": [
    {
     "ename": "NameError",
     "evalue": "name 'newconfig' is not defined",
     "output_type": "error",
     "traceback": [
      "\u001b[1;31m---------------------------------------------------------------------------\u001b[0m",
      "\u001b[1;31mNameError\u001b[0m                                 Traceback (most recent call last)",
      "Cell \u001b[1;32mIn[30], line 1\u001b[0m\n\u001b[1;32m----> 1\u001b[0m S\u001b[38;5;241m.\u001b[39mvalid(\u001b[43mnewconfig\u001b[49m)\n",
      "\u001b[1;31mNameError\u001b[0m: name 'newconfig' is not defined"
     ]
    }
   ],
   "source": [
    "S.valid(newconfig)"
   ]
  },
  {
   "cell_type": "code",
   "execution_count": 31,
   "metadata": {},
   "outputs": [
    {
     "ename": "NameError",
     "evalue": "name 'newconfig' is not defined",
     "output_type": "error",
     "traceback": [
      "\u001b[1;31m---------------------------------------------------------------------------\u001b[0m",
      "\u001b[1;31mNameError\u001b[0m                                 Traceback (most recent call last)",
      "Cell \u001b[1;32mIn[31], line 1\u001b[0m\n\u001b[1;32m----> 1\u001b[0m \u001b[43mnewconfig\u001b[49m\n",
      "\u001b[1;31mNameError\u001b[0m: name 'newconfig' is not defined"
     ]
    }
   ],
   "source": [
    "newconfig"
   ]
  },
  {
   "cell_type": "code",
   "execution_count": 32,
   "metadata": {},
   "outputs": [
    {
     "ename": "NameError",
     "evalue": "name 'probs' is not defined",
     "output_type": "error",
     "traceback": [
      "\u001b[1;31m---------------------------------------------------------------------------\u001b[0m",
      "\u001b[1;31mNameError\u001b[0m                                 Traceback (most recent call last)",
      "Cell \u001b[1;32mIn[32], line 1\u001b[0m\n\u001b[1;32m----> 1\u001b[0m \u001b[43mprobs\u001b[49m\n",
      "\u001b[1;31mNameError\u001b[0m: name 'probs' is not defined"
     ]
    }
   ],
   "source": [
    "probs"
   ]
  },
  {
   "cell_type": "markdown",
   "metadata": {},
   "source": [
    "# Ensemble generation\n",
    "Currently stalls, and so I have it throw an error if a worm reaches 1000 propositions"
   ]
  },
  {
   "cell_type": "code",
   "execution_count": 33,
   "metadata": {},
   "outputs": [
    {
     "ename": "TypeError",
     "evalue": "UndirectedWorm.__init__() takes 2 positional arguments but 3 were given",
     "output_type": "error",
     "traceback": [
      "\u001b[1;31m---------------------------------------------------------------------------\u001b[0m",
      "\u001b[1;31mTypeError\u001b[0m                                 Traceback (most recent call last)",
      "Cell \u001b[1;32mIn[33], line 3\u001b[0m\n\u001b[0;32m      1\u001b[0m L \u001b[38;5;241m=\u001b[39m sv\u001b[38;5;241m.\u001b[39mlattice\u001b[38;5;241m.\u001b[39mLattice2D(\u001b[38;5;241m5\u001b[39m)\n\u001b[0;32m      2\u001b[0m S \u001b[38;5;241m=\u001b[39m sv\u001b[38;5;241m.\u001b[39maction\u001b[38;5;241m.\u001b[39mWorldline(L,\u001b[38;5;241m0.5\u001b[39m)\n\u001b[1;32m----> 3\u001b[0m W \u001b[38;5;241m=\u001b[39m \u001b[43msv\u001b[49m\u001b[38;5;241;43m.\u001b[39;49m\u001b[43mgenerator\u001b[49m\u001b[38;5;241;43m.\u001b[39;49m\u001b[43mworm\u001b[49m\u001b[38;5;241;43m.\u001b[39;49m\u001b[43mUndirectedWorm\u001b[49m\u001b[43m(\u001b[49m\u001b[43mS\u001b[49m\u001b[43m,\u001b[49m\u001b[38;5;241;43m1\u001b[39;49m\u001b[43m)\u001b[49m\n\u001b[0;32m      4\u001b[0m ensemble \u001b[38;5;241m=\u001b[39m sv\u001b[38;5;241m.\u001b[39mensemble\u001b[38;5;241m.\u001b[39mEnsemble(S)\n\u001b[0;32m      5\u001b[0m ensemble \u001b[38;5;241m=\u001b[39m ensemble\u001b[38;5;241m.\u001b[39mgenerate(\u001b[38;5;241m1000\u001b[39m,W,progress \u001b[38;5;241m=\u001b[39m tqdm)\n",
      "\u001b[1;31mTypeError\u001b[0m: UndirectedWorm.__init__() takes 2 positional arguments but 3 were given"
     ]
    }
   ],
   "source": [
    "L = sv.lattice.Lattice2D(5)\n",
    "S = sv.action.Worldline(L,0.5)\n",
    "W = sv.generator.worm.UndirectedWorm(S,1)\n",
    "ensemble = sv.ensemble.Ensemble(S)\n",
    "ensemble = ensemble.generate(1000,W,progress = tqdm)"
   ]
  },
  {
   "cell_type": "markdown",
   "metadata": {},
   "source": [
    "Here we plot the change in the last 50 configurations top to bottom to show the stalling behavior of the worm. Beware colors in plotting can behave strangely if the range is restricted"
   ]
  },
  {
   "cell_type": "code",
   "execution_count": null,
   "metadata": {},
   "outputs": [],
   "source": [
    "len(W.startpointlist)"
   ]
  },
  {
   "cell_type": "code",
   "execution_count": null,
   "metadata": {},
   "outputs": [],
   "source": [
    "fig, ax = plt.subplots(1,1)\n",
    "W.startpointlist\n",
    "blank = L.form(0)\n",
    "for point in W.startpointlist:\n",
    "    blank[point[0],point[1]]+=1\n",
    "L.plot_form(0,blank,ax)\n",
    "fig.colorbar(ax.get_children()[0], ax=ax, orientation='horizontal')\n",
    "    # blank[point[0],point[1]] = 1\n"
   ]
  },
  {
   "cell_type": "code",
   "execution_count": null,
   "metadata": {},
   "outputs": [],
   "source": [
    "W.endconfiglist"
   ]
  },
  {
   "cell_type": "code",
   "execution_count": null,
   "metadata": {},
   "outputs": [],
   "source": [
    "fig,ax = plt.subplots(1,1)\n",
    "configs = W.endconfiglist\n",
    "j = 16\n",
    "colors\n",
    "L.plot_form(1,configs[j],ax,label = 'links',linkwidth = .05)"
   ]
  },
  {
   "cell_type": "code",
   "execution_count": null,
   "metadata": {},
   "outputs": [],
   "source": [
    "np.mean(sv.analysis.Bootstrap(ensemble).InternalEnergyDensity)"
   ]
  },
  {
   "cell_type": "code",
   "execution_count": null,
   "metadata": {},
   "outputs": [],
   "source": [
    "ensemblePlaq = sv.ens"
   ]
  },
  {
   "cell_type": "code",
   "execution_count": null,
   "metadata": {},
   "outputs": [],
   "source": [
    "W.avg_length"
   ]
  },
  {
   "cell_type": "code",
   "execution_count": null,
   "metadata": {},
   "outputs": [],
   "source": [
    "x = [1,2,3,4,5]\n",
    "y = [5,4,3,9,10]\n",
    "plt.scatter(x,y,c = y, norm = None)"
   ]
  },
  {
   "cell_type": "code",
   "execution_count": null,
   "metadata": {},
   "outputs": [],
   "source": [
    "norm = colors.CenteredNorm()\n",
    "plot = L.form(0)\n",
    "plot[0,0]=1\n",
    "fig,ax = plt.subplots(1,1)\n",
    "L.plot_form(0,plot,ax, norm = norm)"
   ]
  },
  {
   "cell_type": "code",
   "execution_count": null,
   "metadata": {},
   "outputs": [],
   "source": [
    "counter = L.form(0)\n",
    "j = -400\n",
    "a = np.array(W.lastsiteslist[j:j+50])\n",
    "for el in a:\n",
    "    counter[el[0],el[1]] +=1\n",
    "fig, ax = plt.subplots(1,1)\n",
    "L.plot_form(0,counter,ax)\n",
    "fig.colorbar(ax.get_children()[0])"
   ]
  },
  {
   "cell_type": "code",
   "execution_count": null,
   "metadata": {},
   "outputs": [],
   "source": [
    "W.lastconfigslist[-400]\n",
    "L.delta(1,W.lastconfigslist[-400])"
   ]
  },
  {
   "cell_type": "code",
   "execution_count": null,
   "metadata": {},
   "outputs": [],
   "source": [
    "W.lastconfigslist[-1]"
   ]
  },
  {
   "cell_type": "code",
   "execution_count": null,
   "metadata": {},
   "outputs": [],
   "source": [
    "counter"
   ]
  },
  {
   "cell_type": "code",
   "execution_count": null,
   "metadata": {},
   "outputs": [],
   "source": [
    "print(ct)"
   ]
  },
  {
   "cell_type": "code",
   "execution_count": null,
   "metadata": {},
   "outputs": [],
   "source": [
    "np.unique(W.lastsiteslist[:-50])"
   ]
  },
  {
   "cell_type": "code",
   "execution_count": null,
   "metadata": {},
   "outputs": [],
   "source": [
    "fig, ax = plt.subplots(1,1)\n",
    "L.plot_form(1,W.lastconfigslist[991]-W.endconfiglist[-1],ax)"
   ]
  },
  {
   "cell_type": "code",
   "execution_count": null,
   "metadata": {},
   "outputs": [],
   "source": [
    "W.lastconfigslist[2]-W.endconfiglist[-1]"
   ]
  },
  {
   "cell_type": "code",
   "execution_count": null,
   "metadata": {},
   "outputs": [],
   "source": [
    "W.lastconfigslist[0]\n"
   ]
  },
  {
   "cell_type": "code",
   "execution_count": null,
   "metadata": {},
   "outputs": [],
   "source": [
    "fig, ax = plt.subplots(1,1)\n",
    "L.plot_form(0,W.startpointlist[-1],ax)"
   ]
  },
  {
   "cell_type": "code",
   "execution_count": null,
   "metadata": {},
   "outputs": [],
   "source": [
    "fig, ax = plt.subplots(50,1, figsize = (50,300))\n",
    "for j in range(50):\n",
    "    config = W.lastconfigslist[-50+j]\n",
    "    sites = W.lastsiteslist[-50+j]\n",
    "    siteconfig = L.form(0)\n",
    "    siteconfig[sites[0],sites[1]] += 1\n",
    "    L.plot_form(1,config - W.lastconfigslist[-50+j-1],ax[j])\n",
    "    L.plot_form(0,siteconfig,ax[j])\n",
    "    ax[j].set_title(W.lastprobslist[-50+j])\n",
    "fig.colorbar(ax[0].get_children()[1], ax=ax, orientation='horizontal')\n"
   ]
  },
  {
   "cell_type": "markdown",
   "metadata": {},
   "source": [
    "# DEPRECATED:\n",
    "Code I used to manually run propositions for the worm"
   ]
  },
  {
   "cell_type": "code",
   "execution_count": null,
   "metadata": {},
   "outputs": [],
   "source": [
    "config2, end2, probs2 = W.burrow(L.plot_form(0),[0,0])\n",
    "fig, ax = plt.subplots(1,1)\n",
    "L.plot_form(1,config2,ax)\n",
    "center = L.form(0)\n",
    "center[0,0] = 1\n",
    "center[end2[0],end2[1]] = 1\n",
    "L.plot_form(0,center,ax)\n",
    "fig.colorbar(ax.get_children()[1], ax=ax, orientation='horizontal')"
   ]
  },
  {
   "cell_type": "code",
   "execution_count": null,
   "metadata": {},
   "outputs": [],
   "source": [
    "fig, ax = plt.subplots(2,1, figsize = (10,20))\n",
    "L.plot_form(1,L.form(1),ax[0])\n",
    "L.plot_form(0,L.form(0),ax[0])\n",
    "newconfig = W.step({'m':L.form(1)})\n",
    "L.plot_form(1,newconfig['m'],ax[1])\n",
    "L.plot_form(0,L.form(0),ax[1])"
   ]
  },
  {
   "cell_type": "code",
   "execution_count": null,
   "metadata": {},
   "outputs": [],
   "source": [
    "fig, ax = plt.subplots(1,1)\n",
    "L.plot_form(1,newconfig['m'],ax)\n"
   ]
  },
  {
   "cell_type": "code",
   "execution_count": null,
   "metadata": {},
   "outputs": [],
   "source": [
    "config3, end3, probs3 = W.burrow(config2,end2)\n",
    "fig, ax = plt.subplots(1,1)\n",
    "L.plot_form(1,config3,ax)\n",
    "center = L.form(0)\n",
    "center[0,0] = 1\n",
    "center[end3[0],end3[1]] = 1\n",
    "L.plot_form(0,center,ax)\n",
    "fig.colorbar(ax.get_children()[1], ax=ax, orientation='horizontal')"
   ]
  },
  {
   "cell_type": "code",
   "execution_count": null,
   "metadata": {},
   "outputs": [],
   "source": [
    "config4, end4, probs4 = W.burrow(config3,end3)\n",
    "fig, ax = plt.subplots(1,1)\n",
    "L.plot_form(1,config4,ax)\n",
    "center = L.form(0)\n",
    "center[0,0] = 1\n",
    "center[end4[0],end4[1]] = 1\n",
    "L.plot_form(0,center,ax)\n",
    "fig.colorbar(ax.get_children()[1], ax=ax, orientation='horizontal')"
   ]
  },
  {
   "cell_type": "code",
   "execution_count": null,
   "metadata": {},
   "outputs": [],
   "source": [
    "config5, end5, probs5 = W.burrow(config4,end4)\n",
    "fig, ax = plt.subplots(1,1)\n",
    "L.plot_form(1,config5,ax)\n",
    "center = L.form(0)\n",
    "center[0,0] = 1\n",
    "center[end5[0],end5[1]] = 1\n",
    "L.plot_form(0,center,ax)\n",
    "fig.colorbar(ax.get_children()[1], ax=ax, orientation='horizontal')"
   ]
  },
  {
   "cell_type": "code",
   "execution_count": null,
   "metadata": {},
   "outputs": [],
   "source": [
    "print(probs2,sum(probs2))\n",
    "print(probs3,sum(probs3))\n",
    "print(probs4,sum(probs4))\n",
    "print(probs5,sum(probs5))"
   ]
  }
 ],
 "metadata": {
  "kernelspec": {
   "display_name": "Python 3",
   "language": "python",
   "name": "python3"
  },
  "language_info": {
   "codemirror_mode": {
    "name": "ipython",
    "version": 3
   },
   "file_extension": ".py",
   "mimetype": "text/x-python",
   "name": "python",
   "nbconvert_exporter": "python",
   "pygments_lexer": "ipython3",
   "version": "3.12.1"
  },
  "orig_nbformat": 4
 },
 "nbformat": 4,
 "nbformat_minor": 2
}
