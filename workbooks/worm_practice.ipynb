{
 "cells": [
  {
   "cell_type": "code",
   "execution_count": 1,
   "metadata": {},
   "outputs": [],
   "source": [
    "import numpy as np\n",
    "import supervillain as sv\n",
    "from supervillain.h5 import H5able\n",
    "import matplotlib.pyplot as plt\n",
    "import matplotlib\n",
    "from cycler import cycler\n",
    "import matplotlib.colors as colors\n",
    "from tqdm.notebook import tqdm"
   ]
  },
  {
   "cell_type": "code",
   "execution_count": 2,
   "metadata": {},
   "outputs": [],
   "source": [
    "rng = np.random.default_rng()"
   ]
  },
  {
   "cell_type": "code",
   "execution_count": 3,
   "metadata": {},
   "outputs": [],
   "source": [
    "L = sv.lattice.Lattice2D(5)\n",
    "S = sv.action.Worldline(L,0.5)"
   ]
  },
  {
   "cell_type": "code",
   "execution_count": 4,
   "metadata": {},
   "outputs": [],
   "source": [
    "W = sv.generator.worm.SlowUndirectedWorm(S,1)"
   ]
  },
  {
   "cell_type": "code",
   "execution_count": 5,
   "metadata": {},
   "outputs": [
    {
     "data": {
      "application/vnd.jupyter.widget-view+json": {
       "model_id": "9853296d9cb548328a9b575bdf6c4fb5",
       "version_major": 2,
       "version_minor": 0
      },
      "text/plain": [
       "  0%|          | 0/999 [00:00<?, ?it/s]"
      ]
     },
     "metadata": {},
     "output_type": "display_data"
    }
   ],
   "source": [
    "w = sv.Ensemble(S).generate(1000, W, start = 'cold', progress = tqdm)"
   ]
  },
  {
   "cell_type": "code",
   "execution_count": 6,
   "metadata": {},
   "outputs": [
    {
     "name": "stdout",
     "output_type": "stream",
     "text": [
      "There were 983 worms accepted of 1000 attempted worms.\n",
      "    0.983000 acceptance rate.\n",
      "    0.983306 average Metropolis acceptance probability.\n",
      "    2.881000 average length over all worm attempts\n",
      "    2.930824 average length over all ACCEPTED worm attempts\n",
      "    7.958564 average length over all ACCEPTED, NON-ZERO worm attemps\n",
      "    14053 total burrows\n"
     ]
    }
   ],
   "source": [
    "print(W.report())"
   ]
  },
  {
   "cell_type": "code",
   "execution_count": 7,
   "metadata": {},
   "outputs": [
    {
     "name": "stderr",
     "output_type": "stream",
     "text": [
      "F:\\Users\\COEP_Leader\\Documents\\Supervillain\\supervillain\\supervillain\\lattice.py:934: UserWarning: No data for colormapping provided via 'c'. Parameters 'norm' will be ignored\n",
      "  axis.scatter(self.T, self.X, color=background, **zorder, **marker)\n"
     ]
    },
    {
     "data": {
      "text/plain": [
       "<matplotlib.colorbar.Colorbar at 0x1ba01e9b8b0>"
      ]
     },
     "execution_count": 7,
     "metadata": {},
     "output_type": "execute_result"
    },
    {
     "data": {
      "image/png": "[encoded data removed]",
      "text/plain": [
       "<Figure size 432x288 with 2 Axes>"
      ]
     },
     "metadata": {
      "needs_background": "light"
     },
     "output_type": "display_data"
    }
   ],
   "source": [
    "fig, ax = plt.subplots(1,1)\n",
    "start = {}\n",
    "start['m'] = L.form(1)\n",
    "current = W.step(start)\n",
    "L.plot_form(1,current['m'],ax)\n",
    "fig.colorbar(ax.get_children()[0])"
   ]
  },
  {
   "cell_type": "code",
   "execution_count": 8,
   "metadata": {},
   "outputs": [
    {
     "data": {
      "text/plain": [
       "0"
      ]
     },
     "execution_count": 8,
     "metadata": {},
     "output_type": "execute_result"
    }
   ],
   "source": [
    "L.count_loops(current['m'])"
   ]
  },
  {
   "cell_type": "code",
   "execution_count": 9,
   "metadata": {},
   "outputs": [
    {
     "data": {
      "text/plain": [
       "array([[[0., 0., 0., 0., 0.],\n",
       "        [0., 0., 0., 0., 0.],\n",
       "        [0., 0., 0., 0., 0.],\n",
       "        [0., 0., 0., 0., 0.],\n",
       "        [0., 0., 0., 0., 0.]],\n",
       "\n",
       "       [[0., 0., 0., 0., 0.],\n",
       "        [0., 0., 0., 0., 0.],\n",
       "        [0., 0., 0., 0., 0.],\n",
       "        [0., 0., 0., 0., 0.],\n",
       "        [0., 0., 0., 0., 0.]]])"
      ]
     },
     "execution_count": 9,
     "metadata": {},
     "output_type": "execute_result"
    }
   ],
   "source": [
    "current['m']"
   ]
  },
  {
   "cell_type": "code",
   "execution_count": 10,
   "metadata": {},
   "outputs": [
    {
     "data": {
      "text/plain": [
       "{'m': array([[[0., 0., 0., 0., 0.],\n",
       "         [0., 0., 0., 0., 0.],\n",
       "         [0., 0., 0., 0., 0.],\n",
       "         [0., 0., 0., 0., 0.],\n",
       "         [0., 0., 0., 0., 0.]],\n",
       " \n",
       "        [[0., 0., 0., 0., 0.],\n",
       "         [0., 0., 0., 0., 0.],\n",
       "         [0., 0., 0., 0., 0.],\n",
       "         [0., 0., 0., 0., 0.],\n",
       "         [0., 0., 0., 0., 0.]]])}"
      ]
     },
     "execution_count": 10,
     "metadata": {},
     "output_type": "execute_result"
    }
   ],
   "source": [
    "current"
   ]
  },
  {
   "cell_type": "code",
   "execution_count": 11,
   "metadata": {},
   "outputs": [],
   "source": [
    "loop_example= L.form(1)\n",
    "loop_example[0,0,4]=1\n",
    "loop_example[1,0,4]=-1\n",
    "loop_example[1,1,4]=1\n",
    "loop_example[0,0,0]=-1\n",
    "\n",
    "loop_example[0,0,1]=1\n",
    "loop_example[1,0,1]=-1\n",
    "loop_example[1,1,1]=1\n",
    "loop_example[0,0,2]=-1\n"
   ]
  },
  {
   "cell_type": "code",
   "execution_count": 12,
   "metadata": {},
   "outputs": [
    {
     "data": {
      "text/plain": [
       "<matplotlib.quiver.Quiver at 0x1ba0402bcd0>"
      ]
     },
     "execution_count": 12,
     "metadata": {},
     "output_type": "execute_result"
    },
    {
     "data": {
      "image/png": "[encoded data removed]",
      "text/plain": [
       "<Figure size 432x288 with 1 Axes>"
      ]
     },
     "metadata": {
      "needs_background": "light"
     },
     "output_type": "display_data"
    }
   ],
   "source": [
    "fig, ax = plt.subplots(1,1)\n",
    "L.plot_form(1,loop_example,ax)"
   ]
  },
  {
   "cell_type": "code",
   "execution_count": 13,
   "metadata": {},
   "outputs": [],
   "source": [
    "test = {}\n",
    "test['m'] = loop_example\n",
    "test['p'] = L.form(2)"
   ]
  },
  {
   "cell_type": "code",
   "execution_count": 17,
   "metadata": {},
   "outputs": [
    {
     "name": "stdout",
     "output_type": "stream",
     "text": [
      "0\n"
     ]
    }
   ],
   "source": [
    "# maplist = ['None','red','pink','blue','cyan','green','lime']\n",
    "# maplist = ['None','red','orange','yellow','green','lime','blue']\n",
    "maplist = []\n",
    "def maxmag(N : np.array):\n",
    "    return N.flat[np.abs(N).argmax()]  \n",
    "def minmag(N : np.array):\n",
    "    return N.flat[np.abs(N).argmax()]  \n",
    "for i in range(len(maplist)//2):\n",
    "    maplist.append([(1/len(maplist)*2)*(i+1)+0,0,0])\n",
    "    maplist.insert(0,[0,0,1/len(maplist)*2*(i+1)])\n",
    "for i in range(len(maplist)//2):\n",
    "    maplist.append([0,(1/len(maplist)*2)*(i+1)+0,0])\n",
    "    maplist.insert(0,[0,(1/len(maplist)*2)*(i+1)+0,(1/len(maplist)*2)*(i+1)+0])\n",
    "print(len(maplist))\n",
    "mycmap = colors.ListedColormap(maplist)\n",
    "def plot_worms(cfg,fig = None,ax = None, norm = None ,cmap = None):\n",
    "    if norm == None:\n",
    "        norm = colors.Normalize(vmin = -np.max([1,np.abs(np.min(cfg)),np.abs(np.min(cfg))]), vmax = np.max([1,np.abs(np.min(cfg)),np.abs(np.min(cfg))]))\n",
    "    if fig == None or ax == None:\n",
    "        fig, ax = plt.subplots(1,1)\n",
    "    links = [0,0] \n",
    "    links[0] = L.plot_form(1,cfg,ax,norm = norm,cmap = cmap, linkwidth = 0.04)\n",
    "    links[1] = L.plot_form(2,L.d(1,cfg),ax,norm = norm,cmap = cmap)\n",
    "    fig.colorbar(links[0])\n",
    "    return links"
   ]
  },
  {
   "cell_type": "code",
   "execution_count": 18,
   "metadata": {},
   "outputs": [
    {
     "data": {
      "image/png": "[encoded data removed]",
      "text/plain": [
       "<Figure size 720x720 with 2 Axes>"
      ]
     },
     "metadata": {
      "needs_background": "light"
     },
     "output_type": "display_data"
    }
   ],
   "source": [
    "fig, ax = plt.subplots(1,1, figsize = (10,10))\n",
    "a = plot_worms(loop_example,fig,ax)"
   ]
  },
  {
   "cell_type": "code",
   "execution_count": 20,
   "metadata": {},
   "outputs": [
    {
     "data": {
      "text/plain": [
       "2"
      ]
     },
     "execution_count": 20,
     "metadata": {},
     "output_type": "execute_result"
    }
   ],
   "source": [
    "S.count_loops(loop_example)"
   ]
  },
  {
   "cell_type": "code",
   "execution_count": 177,
   "metadata": {},
   "outputs": [
    {
     "data": {
      "text/plain": [
       "[<matplotlib.quiver.Quiver at 0x1c59399d300>,\n",
       " <matplotlib.image.AxesImage at 0x1c59399d9f0>]"
      ]
     },
     "execution_count": 177,
     "metadata": {},
     "output_type": "execute_result"
    },
    {
     "data": {
      "image/png": "[encoded data removed]",
      "text/plain": [
       "<Figure size 1080x504 with 6 Axes>"
      ]
     },
     "metadata": {
      "needs_background": "light"
     },
     "output_type": "display_data"
    }
   ],
   "source": [
    "fig, ax = plt.subplots(1,3, figsize = (15,7))\n",
    "plot_worms(loop_example,fig,ax[0])\n",
    "plot_worms(current['m'],fig,ax[1])\n",
    "plot_worms(L.delta(2,L.d(1,loop_example)),fig,ax[2])"
   ]
  },
  {
   "cell_type": "code",
   "execution_count": 178,
   "metadata": {},
   "outputs": [
    {
     "data": {
      "text/plain": [
       "<matplotlib.colorbar.Colorbar at 0x1c593ef25c0>"
      ]
     },
     "execution_count": 178,
     "metadata": {},
     "output_type": "execute_result"
    },
    {
     "data": {
      "image/png": "[encoded data removed]",
      "text/plain": [
       "<Figure size 432x288 with 2 Axes>"
      ]
     },
     "metadata": {
      "needs_background": "light"
     },
     "output_type": "display_data"
    }
   ],
   "source": [
    "fig, ax = plt.subplots(1,1)\n",
    "test = loop_example.copy()\n",
    "test = np.abs(test)\n",
    "q = 1\n",
    "ledger = L.form(0)\n",
    "for i in range(L.dims[0]):\n",
    "    for j in range(L.dims[1]):\n",
    "        if (np.array([test[0,i,j],test[1,i,j],test[0,i-1,j],test[1,i,j-1]])>0).any():\n",
    "            ledger[i,j]=q\n",
    "            q+=1\n",
    "L.plot_form(0,ledger,ax)\n",
    "plt.colorbar(ax.get_children()[0])"
   ]
  },
  {
   "cell_type": "code",
   "execution_count": 179,
   "metadata": {},
   "outputs": [],
   "source": [
    "def count_loops(cfg):\n",
    "    cfgabs = np.abs(cfg)\n",
    "    #Takes the absolute value of a configuration's links to determine where a worm perturbation is\n",
    "    #This must be applied to a worm on a zero background field, (or just subtract out the background field from before the worm)\n",
    "    \n",
    "    #Here I am checking each site for whether it lies on the worm (has an adjacent non-zero link),\n",
    "    #and if so then give it an integer value. This is basically just a unique identifier, so the integer value \n",
    "    #increments each time\n",
    "    q = 1\n",
    "    ledger = L.form(0)\n",
    "    for i in range(L.dims[0]):\n",
    "        for j in range(L.dims[1]):\n",
    "            if (np.array([cfgabs[0,i,j],cfgabs[1,i,j],cfgabs[0,i-1,j],cfgabs[1,i,j-1]])>0).any():\n",
    "                ledger[i,j]=q\n",
    "                q+=1\n",
    "\n",
    "    oldledger = np.empty_like(ledger)\n",
    "    while (ledger != oldledger).any():  #As long as we are not in a steady state\n",
    "        oldledger = ledger.copy()\n",
    "        for i in range(ledger.shape[0]):\n",
    "            for j in range(ledger.shape[1]):\n",
    "                if ledger[i,j] != 0:\n",
    "                    for adj in [1,2,3,4]:   #Sift through each non-zero point in the ledger and its \n",
    "                        #adjacent links\n",
    "                        #[1,2,3,4] -> [East,N,W,S]\n",
    "                        if adj == 1:\n",
    "                            test_link = cfgabs[0,i,j]\n",
    "                            if test_link > 0:\n",
    "                                #Here we check if the worm passes through a neighboring link, and if so we take\n",
    "                                #the maximum of the two points connected by that link and adopt that for both\n",
    "                                ledger[i,j] = max(ledger[i,j],ledger[L.mod([i+1,j])[0],L.mod([i+1,j])[1]])\n",
    "                                ledger[L.mod([i+1,j])[0],L.mod([i+1,j])[1]] = ledger[i,j]\n",
    "                        if adj == 2:\n",
    "                            test_link = cfgabs[1,i,j]\n",
    "                            if test_link > 0:\n",
    "                                ledger[i,j] = max(ledger[i,j],ledger[L.mod([i,j+1])[0],L.mod([i,j+1])[1]])\n",
    "                                ledger[L.mod([i,j+1])[0],L.mod([i,j+1])[1]] = ledger[i,j]\n",
    "                        if adj == 3:\n",
    "                            test_link = cfgabs[0,i-1,j]\n",
    "                            if test_link > 0:\n",
    "                                ledger[i,j] = max(ledger[i,j],ledger[L.mod([i-1,j])[0],L.mod([i-1,j])[1]])\n",
    "                                ledger[L.mod([i-1,j])[0],L.mod([i-1,j])[1]] = ledger[i,j]\n",
    "                        if adj == 4:\n",
    "                            test_link = cfgabs[1,i,j-1]\n",
    "                            if test_link > 0:\n",
    "                                ledger[i,j] = max(ledger[i,j],ledger[L.mod([i,j-1])[0],L.mod([i,j-1])[1]])\n",
    "                                ledger[L.mod([i,j-1])[0],L.mod([i,j-1])[1]] = ledger[i,j]\n",
    "    #Once the process reaches a steady state, ie. the maximums in all connected loops have proliferated\n",
    "    #we can just count the number of unique maximums that we obtain (other than 0)\n",
    "    return np.sum(np.unique(ledger) > 0)"
   ]
  },
  {
   "cell_type": "code",
   "execution_count": 180,
   "metadata": {},
   "outputs": [
    {
     "data": {
      "text/plain": [
       "8"
      ]
     },
     "execution_count": 180,
     "metadata": {},
     "output_type": "execute_result"
    }
   ],
   "source": [
    "np.sum(np.unique(ledger) > 0)"
   ]
  },
  {
   "cell_type": "code",
   "execution_count": 181,
   "metadata": {},
   "outputs": [
    {
     "data": {
      "text/plain": [
       "1"
      ]
     },
     "execution_count": 181,
     "metadata": {},
     "output_type": "execute_result"
    }
   ],
   "source": [
    "count_loops(w.configurations.fields['m'][-3])"
   ]
  },
  {
   "cell_type": "markdown",
   "metadata": {},
   "source": [
    "## Single step proof of concept"
   ]
  },
  {
   "cell_type": "code",
   "execution_count": null,
   "metadata": {},
   "outputs": [],
   "source": [
    "fig, ax = plt.subplots(1,1)\n",
    "startpoint = np.array([0,0])\n",
    "endpoint = startpoint + np.array([1,1])\n",
    "currentpoint = startpoint.copy()\n",
    "configlist = []\n",
    "propositions=0\n",
    "currentconfig = L.form(1)\n",
    "initconfig = currentconfig.copy()\n",
    "length = 0\n",
    "probslist = []\n",
    "while (endpoint != startpoint).any():\n",
    "    newconfig, endpoint, probs = W.burrow(currentconfig, currentpoint)\n",
    "    currentpoint = endpoint.copy()\n",
    "    currentconfig = newconfig.copy()\n",
    "    configlist.append(currentconfig)\n",
    "    propositions += 1\n",
    "length = np.sum(np.abs(currentconfig-initconfig))\n",
    "print(f'Propositions: {propositions}')\n",
    "print(f'Length: {length}')\n",
    "L.plot_form(1,currentconfig,ax)\n",
    "fig.colorbar(ax.get_children()[0], ax=ax, orientation='horizontal')"
   ]
  },
  {
   "cell_type": "code",
   "execution_count": null,
   "metadata": {},
   "outputs": [],
   "source": [
    "ax.get_children()"
   ]
  },
  {
   "cell_type": "code",
   "execution_count": null,
   "metadata": {},
   "outputs": [],
   "source": [
    "S.valid(newconfig)"
   ]
  },
  {
   "cell_type": "code",
   "execution_count": null,
   "metadata": {},
   "outputs": [],
   "source": [
    "newconfig"
   ]
  },
  {
   "cell_type": "code",
   "execution_count": null,
   "metadata": {},
   "outputs": [],
   "source": [
    "probs"
   ]
  },
  {
   "cell_type": "markdown",
   "metadata": {},
   "source": [
    "# Ensemble generation\n",
    "Currently stalls, and so I have it throw an error if a worm reaches 1000 propositions"
   ]
  },
  {
   "cell_type": "code",
   "execution_count": null,
   "metadata": {},
   "outputs": [],
   "source": [
    "L = sv.lattice.Lattice2D(5)\n",
    "S = sv.action.Worldline(L,0.5)\n",
    "W = sv.generator.worm.UndirectedWorm(S,1)\n",
    "ensemble = sv.ensemble.Ensemble(S)\n",
    "ensemble = ensemble.generate(1000,W,progress = tqdm)"
   ]
  },
  {
   "cell_type": "markdown",
   "metadata": {},
   "source": [
    "Here we plot the change in the last 50 configurations top to bottom to show the stalling behavior of the worm. Beware colors in plotting can behave strangely if the range is restricted"
   ]
  },
  {
   "cell_type": "code",
   "execution_count": null,
   "metadata": {},
   "outputs": [],
   "source": [
    "len(W.startpointlist)"
   ]
  },
  {
   "cell_type": "code",
   "execution_count": null,
   "metadata": {},
   "outputs": [],
   "source": [
    "fig, ax = plt.subplots(1,1)\n",
    "W.startpointlist\n",
    "blank = L.form(0)\n",
    "for point in W.startpointlist:\n",
    "    blank[point[0],point[1]]+=1\n",
    "L.plot_form(0,blank,ax)\n",
    "fig.colorbar(ax.get_children()[0], ax=ax, orientation='horizontal')\n",
    "    # blank[point[0],point[1]] = 1\n"
   ]
  },
  {
   "cell_type": "code",
   "execution_count": null,
   "metadata": {},
   "outputs": [],
   "source": [
    "W.endconfiglist"
   ]
  },
  {
   "cell_type": "code",
   "execution_count": null,
   "metadata": {},
   "outputs": [],
   "source": [
    "fig,ax = plt.subplots(1,1)\n",
    "configs = W.endconfiglist\n",
    "j = 16\n",
    "colors\n",
    "L.plot_form(1,configs[j],ax,label = 'links',linkwidth = .05)"
   ]
  },
  {
   "cell_type": "code",
   "execution_count": null,
   "metadata": {},
   "outputs": [],
   "source": [
    "np.mean(sv.analysis.Bootstrap(ensemble).InternalEnergyDensity)"
   ]
  },
  {
   "cell_type": "code",
   "execution_count": null,
   "metadata": {},
   "outputs": [],
   "source": [
    "ensemblePlaq = sv.ens"
   ]
  },
  {
   "cell_type": "code",
   "execution_count": null,
   "metadata": {},
   "outputs": [],
   "source": [
    "W.avg_length"
   ]
  },
  {
   "cell_type": "code",
   "execution_count": null,
   "metadata": {},
   "outputs": [],
   "source": [
    "x = [1,2,3,4,5]\n",
    "y = [5,4,3,9,10]\n",
    "plt.scatter(x,y,c = y, norm = None)"
   ]
  },
  {
   "cell_type": "code",
   "execution_count": null,
   "metadata": {},
   "outputs": [],
   "source": [
    "norm = colors.CenteredNorm()\n",
    "plot = L.form(0)\n",
    "plot[0,0]=1\n",
    "fig,ax = plt.subplots(1,1)\n",
    "L.plot_form(0,plot,ax, norm = norm)"
   ]
  },
  {
   "cell_type": "code",
   "execution_count": null,
   "metadata": {},
   "outputs": [],
   "source": [
    "counter = L.form(0)\n",
    "j = -400\n",
    "a = np.array(W.lastsiteslist[j:j+50])\n",
    "for el in a:\n",
    "    counter[el[0],el[1]] +=1\n",
    "fig, ax = plt.subplots(1,1)\n",
    "L.plot_form(0,counter,ax)\n",
    "fig.colorbar(ax.get_children()[0])"
   ]
  },
  {
   "cell_type": "code",
   "execution_count": null,
   "metadata": {},
   "outputs": [],
   "source": [
    "W.lastconfigslist[-400]\n",
    "L.delta(1,W.lastconfigslist[-400])"
   ]
  },
  {
   "cell_type": "code",
   "execution_count": null,
   "metadata": {},
   "outputs": [],
   "source": [
    "W.lastconfigslist[-1]"
   ]
  },
  {
   "cell_type": "code",
   "execution_count": null,
   "metadata": {},
   "outputs": [],
   "source": [
    "counter"
   ]
  },
  {
   "cell_type": "code",
   "execution_count": null,
   "metadata": {},
   "outputs": [],
   "source": [
    "print(ct)"
   ]
  },
  {
   "cell_type": "code",
   "execution_count": null,
   "metadata": {},
   "outputs": [],
   "source": [
    "np.unique(W.lastsiteslist[:-50])"
   ]
  },
  {
   "cell_type": "code",
   "execution_count": null,
   "metadata": {},
   "outputs": [],
   "source": [
    "fig, ax = plt.subplots(1,1)\n",
    "L.plot_form(1,W.lastconfigslist[991]-W.endconfiglist[-1],ax)"
   ]
  },
  {
   "cell_type": "code",
   "execution_count": null,
   "metadata": {},
   "outputs": [],
   "source": [
    "W.lastconfigslist[2]-W.endconfiglist[-1]"
   ]
  },
  {
   "cell_type": "code",
   "execution_count": null,
   "metadata": {},
   "outputs": [],
   "source": [
    "W.lastconfigslist[0]\n"
   ]
  },
  {
   "cell_type": "code",
   "execution_count": null,
   "metadata": {},
   "outputs": [],
   "source": [
    "fig, ax = plt.subplots(1,1)\n",
    "L.plot_form(0,W.startpointlist[-1],ax)"
   ]
  },
  {
   "cell_type": "code",
   "execution_count": null,
   "metadata": {},
   "outputs": [],
   "source": [
    "fig, ax = plt.subplots(50,1, figsize = (50,300))\n",
    "for j in range(50):\n",
    "    config = W.lastconfigslist[-50+j]\n",
    "    sites = W.lastsiteslist[-50+j]\n",
    "    siteconfig = L.form(0)\n",
    "    siteconfig[sites[0],sites[1]] += 1\n",
    "    L.plot_form(1,config - W.lastconfigslist[-50+j-1],ax[j])\n",
    "    L.plot_form(0,siteconfig,ax[j])\n",
    "    ax[j].set_title(W.lastprobslist[-50+j])\n",
    "fig.colorbar(ax[0].get_children()[1], ax=ax, orientation='horizontal')\n"
   ]
  },
  {
   "cell_type": "markdown",
   "metadata": {},
   "source": [
    "# DEPRECATED:\n",
    "Code I used to manually run propositions for the worm"
   ]
  },
  {
   "cell_type": "code",
   "execution_count": null,
   "metadata": {},
   "outputs": [],
   "source": [
    "config2, end2, probs2 = W.burrow(L.plot_form(0),[0,0])\n",
    "fig, ax = plt.subplots(1,1)\n",
    "L.plot_form(1,config2,ax)\n",
    "center = L.form(0)\n",
    "center[0,0] = 1\n",
    "center[end2[0],end2[1]] = 1\n",
    "L.plot_form(0,center,ax)\n",
    "fig.colorbar(ax.get_children()[1], ax=ax, orientation='horizontal')"
   ]
  },
  {
   "cell_type": "code",
   "execution_count": null,
   "metadata": {},
   "outputs": [],
   "source": [
    "fig, ax = plt.subplots(2,1, figsize = (10,20))\n",
    "L.plot_form(1,L.form(1),ax[0])\n",
    "L.plot_form(0,L.form(0),ax[0])\n",
    "newconfig = W.step({'m':L.form(1)})\n",
    "L.plot_form(1,newconfig['m'],ax[1])\n",
    "L.plot_form(0,L.form(0),ax[1])"
   ]
  },
  {
   "cell_type": "code",
   "execution_count": null,
   "metadata": {},
   "outputs": [],
   "source": [
    "fig, ax = plt.subplots(1,1)\n",
    "L.plot_form(1,newconfig['m'],ax)\n"
   ]
  },
  {
   "cell_type": "code",
   "execution_count": null,
   "metadata": {},
   "outputs": [],
   "source": [
    "config3, end3, probs3 = W.burrow(config2,end2)\n",
    "fig, ax = plt.subplots(1,1)\n",
    "L.plot_form(1,config3,ax)\n",
    "center = L.form(0)\n",
    "center[0,0] = 1\n",
    "center[end3[0],end3[1]] = 1\n",
    "L.plot_form(0,center,ax)\n",
    "fig.colorbar(ax.get_children()[1], ax=ax, orientation='horizontal')"
   ]
  },
  {
   "cell_type": "code",
   "execution_count": null,
   "metadata": {},
   "outputs": [],
   "source": [
    "config4, end4, probs4 = W.burrow(config3,end3)\n",
    "fig, ax = plt.subplots(1,1)\n",
    "L.plot_form(1,config4,ax)\n",
    "center = L.form(0)\n",
    "center[0,0] = 1\n",
    "center[end4[0],end4[1]] = 1\n",
    "L.plot_form(0,center,ax)\n",
    "fig.colorbar(ax.get_children()[1], ax=ax, orientation='horizontal')"
   ]
  },
  {
   "cell_type": "code",
   "execution_count": null,
   "metadata": {},
   "outputs": [],
   "source": [
    "config5, end5, probs5 = W.burrow(config4,end4)\n",
    "fig, ax = plt.subplots(1,1)\n",
    "L.plot_form(1,config5,ax)\n",
    "center = L.form(0)\n",
    "center[0,0] = 1\n",
    "center[end5[0],end5[1]] = 1\n",
    "L.plot_form(0,center,ax)\n",
    "fig.colorbar(ax.get_children()[1], ax=ax, orientation='horizontal')"
   ]
  },
  {
   "cell_type": "code",
   "execution_count": null,
   "metadata": {},
   "outputs": [],
   "source": [
    "print(probs2,sum(probs2))\n",
    "print(probs3,sum(probs3))\n",
    "print(probs4,sum(probs4))\n",
    "print(probs5,sum(probs5))"
   ]
  }
 ],
 "metadata": {
  "kernelspec": {
   "display_name": "Python 3",
   "language": "python",
   "name": "python3"
  },
  "language_info": {
   "codemirror_mode": {
    "name": "ipython",
    "version": 3
   },
   "file_extension": ".py",
   "mimetype": "text/x-python",
   "name": "python",
   "nbconvert_exporter": "python",
   "pygments_lexer": "ipython3",
   "version": "3.10.5"
  },
  "orig_nbformat": 4
 },
 "nbformat": 4,
 "nbformat_minor": 2
}
