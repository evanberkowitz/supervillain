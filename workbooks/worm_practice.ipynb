{
 "cells": [
  {
   "cell_type": "code",
   "execution_count": 1,
   "metadata": {},
   "outputs": [],
   "source": [
    "import numpy as np\n",
    "import supervillain as sv\n",
    "from supervillain.h5 import H5able\n",
    "import matplotlib.pyplot as plt\n",
    "import matplotlib\n",
    "from cycler import cycler\n",
    "from tqdm.notebook import tqdm"
   ]
  },
  {
   "cell_type": "code",
   "execution_count": 2,
   "metadata": {},
   "outputs": [],
   "source": [
    "rng = np.random.default_rng()"
   ]
  },
  {
   "cell_type": "code",
   "execution_count": 3,
   "metadata": {},
   "outputs": [],
   "source": [
    "L = sv.lattice.Lattice2D(5)\n",
    "S = sv.action.Worldline(L,.5)"
   ]
  },
  {
   "cell_type": "code",
   "execution_count": 4,
   "metadata": {},
   "outputs": [],
   "source": [
    "W = sv.generator.worms.UndirectedWorm(S,1)"
   ]
  },
  {
   "cell_type": "markdown",
   "metadata": {},
   "source": [
    "## Single step proof of concept"
   ]
  },
  {
   "cell_type": "code",
   "execution_count": 5,
   "metadata": {},
   "outputs": [
    {
     "name": "stdout",
     "output_type": "stream",
     "text": [
      "Propositions: 4\n",
      "Length: 4.0\n"
     ]
    },
    {
     "data": {
      "image/png": "[encoded data removed]",
      "text/plain": [
       "<Figure size 432x288 with 1 Axes>"
      ]
     },
     "metadata": {
      "needs_background": "light"
     },
     "output_type": "display_data"
    }
   ],
   "source": [
    "fig, ax = plt.subplots(1,1)\n",
    "startpoint = np.array([0,0])\n",
    "endpoint = startpoint + np.array([1,1])\n",
    "currentpoint = startpoint.copy()\n",
    "configlist = []\n",
    "propositions=0\n",
    "currentconfig = L.form(1)\n",
    "initconfig = currentconfig.copy()\n",
    "length = 0\n",
    "while (endpoint != startpoint).any():\n",
    "    newconfig, endpoint, probs = W.burrow(currentconfig, currentpoint)\n",
    "    currentpoint = endpoint.copy()\n",
    "    currentconfig = newconfig.copy()\n",
    "    configlist.append(currentconfig)\n",
    "    propositions += 1\n",
    "length = np.sum(np.abs(currentconfig-initconfig))\n",
    "print(f'Propositions: {propositions}')\n",
    "print(f'Length: {length}')\n",
    "L.plot_form(1,currentconfig,ax)"
   ]
  },
  {
   "cell_type": "markdown",
   "metadata": {},
   "source": [
    "# Ensemble generation\n",
    "Currently stalls, and so I have it throw an error if a worm reaches 1000 propositions"
   ]
  },
  {
   "cell_type": "code",
   "execution_count": 6,
   "metadata": {},
   "outputs": [
    {
     "data": {
      "application/vnd.jupyter.widget-view+json": {
       "model_id": "94ee921463f843798a041038b762dd82",
       "version_major": 2,
       "version_minor": 0
      },
      "text/plain": [
       "  0%|          | 0/9999 [00:00<?, ?it/s]"
      ]
     },
     "metadata": {},
     "output_type": "display_data"
    },
    {
     "name": "stdout",
     "output_type": "stream",
     "text": [
      "1001\n",
      "[array([ 0, -1]), array([1, 0])]\n",
      "0.000000, 0.000000, 0.000000, 1.000000\n"
     ]
    },
    {
     "ename": "ValueError",
     "evalue": "",
     "output_type": "error",
     "traceback": [
      "\u001b[1;31m---------------------------------------------------------------------------\u001b[0m",
      "\u001b[1;31mValueError\u001b[0m                                Traceback (most recent call last)",
      "\u001b[1;32mf:\\Users\\COEP_Leader\\Documents\\Supervillain\\supervillain\\workbooks\\worm_practice.ipynb Cell 8\u001b[0m line \u001b[0;36m<cell line: 2>\u001b[1;34m()\u001b[0m\n\u001b[0;32m      <a href='vscode-notebook-cell:/f%3A/Users/COEP_Leader/Documents/Supervillain/supervillain/workbooks/worm_practice.ipynb#X11sZmlsZQ%3D%3D?line=0'>1</a>\u001b[0m ensemble \u001b[39m=\u001b[39m sv\u001b[39m.\u001b[39mensemble\u001b[39m.\u001b[39mEnsemble(S)\n\u001b[1;32m----> <a href='vscode-notebook-cell:/f%3A/Users/COEP_Leader/Documents/Supervillain/supervillain/workbooks/worm_practice.ipynb#X11sZmlsZQ%3D%3D?line=1'>2</a>\u001b[0m ensemble \u001b[39m=\u001b[39m ensemble\u001b[39m.\u001b[39;49mgenerate(\u001b[39m10000\u001b[39;49m,W,progress \u001b[39m=\u001b[39;49m tqdm)\n",
      "File \u001b[1;32mF:\\Users\\COEP_Leader\\Documents\\Supervillain\\supervillain\\supervillain\\ensemble.py:86\u001b[0m, in \u001b[0;36mEnsemble.generate\u001b[1;34m(self, steps, generator, start, progress, starting_index)\u001b[0m\n\u001b[0;32m     83\u001b[0m \u001b[39mself\u001b[39m\u001b[39m.\u001b[39mconfigurations[\u001b[39m0\u001b[39m] \u001b[39m=\u001b[39m generator\u001b[39m.\u001b[39mstep(seed)\n\u001b[0;32m     85\u001b[0m \u001b[39mfor\u001b[39;00m mcmc_step \u001b[39min\u001b[39;00m progress(\u001b[39mrange\u001b[39m(\u001b[39m1\u001b[39m,steps)):\n\u001b[1;32m---> 86\u001b[0m     \u001b[39mself\u001b[39m\u001b[39m.\u001b[39mconfigurations[mcmc_step] \u001b[39m=\u001b[39m generator\u001b[39m.\u001b[39;49mstep(\u001b[39mself\u001b[39;49m\u001b[39m.\u001b[39;49mconfigurations[mcmc_step\u001b[39m-\u001b[39;49m\u001b[39m1\u001b[39;49m])\n\u001b[0;32m     88\u001b[0m \u001b[39mself\u001b[39m\u001b[39m.\u001b[39mstart \u001b[39m=\u001b[39m start\n\u001b[0;32m     89\u001b[0m \u001b[39mself\u001b[39m\u001b[39m.\u001b[39mgenerator \u001b[39m=\u001b[39m generator\n",
      "File \u001b[1;32mF:\\Users\\COEP_Leader\\Documents\\Supervillain\\supervillain\\supervillain\\generator\\worms.py:186\u001b[0m, in \u001b[0;36mUndirectedWorm.step\u001b[1;34m(self, cfg)\u001b[0m\n\u001b[0;32m    184\u001b[0m             \u001b[39mself\u001b[39m\u001b[39m.\u001b[39mlastconfigslist \u001b[39m=\u001b[39m configlist\n\u001b[0;32m    185\u001b[0m             \u001b[39mself\u001b[39m\u001b[39m.\u001b[39mlastprobslist \u001b[39m=\u001b[39m probslist\n\u001b[1;32m--> 186\u001b[0m         \u001b[39mraise\u001b[39;00m \u001b[39mValueError\u001b[39;00m\n\u001b[0;32m    187\u001b[0m     \u001b[39m# print(self.Action.valid(currentconfig))\u001b[39;00m\n\u001b[0;32m    188\u001b[0m length \u001b[39m=\u001b[39m np\u001b[39m.\u001b[39msum(np\u001b[39m.\u001b[39mabs(currentconfig\u001b[39m-\u001b[39minitconfig))\n",
      "\u001b[1;31mValueError\u001b[0m: "
     ]
    }
   ],
   "source": [
    "ensemble = sv.ensemble.Ensemble(S)\n",
    "ensemble = ensemble.generate(10000,W,progress = tqdm)"
   ]
  },
  {
   "cell_type": "markdown",
   "metadata": {},
   "source": [
    "Here we plot the change in the last 50 configurations top to bottom to show the stalling behavior of the worm. Beware colors in plotting can behave strangely if the range is restricted"
   ]
  },
  {
   "cell_type": "code",
   "execution_count": 8,
   "metadata": {},
   "outputs": [
    {
     "data": {
      "text/plain": [
       "<matplotlib.colorbar.Colorbar at 0x22005c29840>"
      ]
     },
     "execution_count": 8,
     "metadata": {},
     "output_type": "execute_result"
    }
   ],
   "source": [
    "fig, ax = plt.subplots(50,1, figsize = (10,300))\n",
    "for j in range(50):\n",
    "    config = W.lastconfigslist[-50+j]\n",
    "    sites = W.lastsiteslist[-50+j]\n",
    "    siteconfig = L.form(0)\n",
    "    siteconfig[sites[0],sites[1]] += 1\n",
    "    L.plot_form(1,config - W.lastconfigslist[-50+j-1],ax[j])\n",
    "    L.plot_form(0,siteconfig,ax[j])\n",
    "    ax[j].set_title(W.lastprobslist[-50+j])\n",
    "fig.colorbar(ax[0].get_children()[1], ax=ax, orientation='horizontal')\n"
   ]
  },
  {
   "cell_type": "markdown",
   "metadata": {},
   "source": [
    "# DEPRECATED:\n",
    "Code I used to manually run propositions for the worm"
   ]
  },
  {
   "cell_type": "code",
   "execution_count": null,
   "metadata": {},
   "outputs": [],
   "source": [
    "config2, end2, probs2 = W.burrow(L.plot_form(0),[0,0])\n",
    "fig, ax = plt.subplots(1,1)\n",
    "L.plot_form(1,config2,ax)\n",
    "center = L.form(0)\n",
    "center[0,0] = 1\n",
    "center[end2[0],end2[1]] = 1\n",
    "L.plot_form(0,center,ax)\n",
    "fig.colorbar(ax.get_children()[1], ax=ax, orientation='horizontal')"
   ]
  },
  {
   "cell_type": "code",
   "execution_count": null,
   "metadata": {},
   "outputs": [],
   "source": [
    "fig, ax = plt.subplots(2,1, figsize = (10,20))\n",
    "L.plot_form(1,L.form(1),ax[0])\n",
    "L.plot_form(0,L.form(0),ax[0])\n",
    "newconfig = W.step({'m':L.form(1)})\n",
    "L.plot_form(1,newconfig['m'],ax[1])\n",
    "L.plot_form(0,L.form(0),ax[1])"
   ]
  },
  {
   "cell_type": "code",
   "execution_count": null,
   "metadata": {},
   "outputs": [],
   "source": [
    "fig, ax = plt.subplots(1,1)\n",
    "L.plot_form(1,newconfig['m'],ax)\n"
   ]
  },
  {
   "cell_type": "code",
   "execution_count": null,
   "metadata": {},
   "outputs": [],
   "source": [
    "config3, end3, probs3 = W.burrow(config2,end2)\n",
    "fig, ax = plt.subplots(1,1)\n",
    "L.plot_form(1,config3,ax)\n",
    "center = L.form(0)\n",
    "center[0,0] = 1\n",
    "center[end3[0],end3[1]] = 1\n",
    "L.plot_form(0,center,ax)\n",
    "fig.colorbar(ax.get_children()[1], ax=ax, orientation='horizontal')"
   ]
  },
  {
   "cell_type": "code",
   "execution_count": null,
   "metadata": {},
   "outputs": [],
   "source": [
    "config4, end4, probs4 = W.burrow(config3,end3)\n",
    "fig, ax = plt.subplots(1,1)\n",
    "L.plot_form(1,config4,ax)\n",
    "center = L.form(0)\n",
    "center[0,0] = 1\n",
    "center[end4[0],end4[1]] = 1\n",
    "L.plot_form(0,center,ax)\n",
    "fig.colorbar(ax.get_children()[1], ax=ax, orientation='horizontal')"
   ]
  },
  {
   "cell_type": "code",
   "execution_count": null,
   "metadata": {},
   "outputs": [],
   "source": [
    "config5, end5, probs5 = W.burrow(config4,end4)\n",
    "fig, ax = plt.subplots(1,1)\n",
    "L.plot_form(1,config5,ax)\n",
    "center = L.form(0)\n",
    "center[0,0] = 1\n",
    "center[end5[0],end5[1]] = 1\n",
    "L.plot_form(0,center,ax)\n",
    "fig.colorbar(ax.get_children()[1], ax=ax, orientation='horizontal')"
   ]
  },
  {
   "cell_type": "code",
   "execution_count": null,
   "metadata": {},
   "outputs": [],
   "source": [
    "print(probs2,sum(probs2))\n",
    "print(probs3,sum(probs3))\n",
    "print(probs4,sum(probs4))\n",
    "print(probs5,sum(probs5))"
   ]
  }
 ],
 "metadata": {
  "kernelspec": {
   "display_name": "Python 3",
   "language": "python",
   "name": "python3"
  },
  "language_info": {
   "codemirror_mode": {
    "name": "ipython",
    "version": 3
   },
   "file_extension": ".py",
   "mimetype": "text/x-python",
   "name": "python",
   "nbconvert_exporter": "python",
   "pygments_lexer": "ipython3",
   "version": "3.10.5"
  },
  "orig_nbformat": 4
 },
 "nbformat": 4,
 "nbformat_minor": 2
}
